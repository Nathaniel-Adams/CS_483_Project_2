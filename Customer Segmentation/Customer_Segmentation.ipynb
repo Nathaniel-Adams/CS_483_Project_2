{
 "cells": [
  {
   "cell_type": "code",
   "execution_count": null,
   "metadata": {
    "pycharm": {
     "name": "#%%\n"
    }
   },
   "outputs": [],
   "source": [
    "##################################\n",
    "import matplotlib.pyplot as plt\n",
    "from sklearn.cluster import KMeans\n",
    "from sklearn.ensemble import ExtraTreesClassifier\n",
    "from sklearn.preprocessing import StandardScaler\n",
    "import pandas as pd \n",
    "import numpy as np\n",
    "import random\n",
    "##################################"
   ]
  },
  {
   "cell_type": "code",
   "execution_count": null,
   "metadata": {
    "pycharm": {
     "name": "#%%\n"
    }
   },
   "outputs": [],
   "source": [
    "df = pd.read_csv(\"bank.csv\")\n",
    "df"
   ]
  },
  {
   "cell_type": "code",
   "execution_count": null,
   "metadata": {
    "pycharm": {
     "name": "#%%\n"
    }
   },
   "outputs": [],
   "source": [
    "\"\"\"\n",
    "This cell reformats the data into integers with each unique data being its own number so that it can be clustered properly\n",
    "\"\"\"\n",
    "job = [ \"admin.\",\"blue-collar\",\"entrepreneur\",\"housemaid\",\"management\",\"retired\",\"self-employed\",\"services\",\"student\",\"technician\",\"unemployed\",\"unknown\"]\n",
    "\n",
    "for ii in range(len(job)): \n",
    "    df.job[df.job == job[ii]] = ii\n",
    "\n",
    "marital = [\"divorced\",\"married\",\"single\",\"unknown\"]\n",
    "\n",
    "for ii in range(len(marital)):\n",
    "    df.marital[df.marital == marital[ii]] = ii\n",
    "\n",
    "education =  [\"primary\",\"secondary\",\"tertiary\",\"unknown\"]\n",
    "\n",
    "for ii in range(len(education)):\n",
    "    df.education[df.education == education[ii]] = ii\n",
    "\n",
    "df.default[df.default == \"no\" ] = 0\n",
    "df.default[df.default == \"yes\" ] = 1\n",
    "\n",
    "df.housing[df.housing == \"no\" ] = 0\n",
    "df.housing[df.housing == \"yes\" ] = 1\n",
    "\n",
    "df.loan[df.loan == \"no\" ] = 0\n",
    "df.loan[df.loan == \"yes\" ] = 1\n",
    "\n",
    "contact = [\"telephone\",\"cellular\",\"unknown\"] \n",
    "\n",
    "for ii in range(len(contact)):\n",
    "    df.contact[df.contact == contact[ii]] = ii\n",
    "\n",
    "month = [\"jan\", \"feb\", \"mar\", \"apr\", \"may\",\"jun\", \"jul\", \"aug\", \"sep\", \"oct\",\"nov\", \"dec\"]\n",
    "\n",
    "for ii in range(len(month)):\n",
    "    df.month[df.month == month[ii]] = ii\n",
    "\n",
    "poutcome = [\"other\",\"failure\",\"success\", \"unknown\"]\n",
    "\n",
    "\n",
    "for ii in range(len(poutcome)):\n",
    "    df.poutcome[df.poutcome == poutcome[ii]] = ii\n",
    "\n",
    "df.y[df.y == \"no\" ] = 0\n",
    "df.y[df.y == \"yes\" ] = 1\n",
    "df.y = df.y.astype('int')"
   ]
  },
  {
   "cell_type": "code",
   "execution_count": null,
   "metadata": {
    "tags": []
   },
   "outputs": [],
   "source": [
    "\"\"\"\n",
    "Grabs a random sample of 500 rows from the data set for analysis\n",
    "\"\"\"\n",
    "sampled = df.sample(500)\n",
    "\n",
    "sampled.head()"
   ]
  },
  {
   "cell_type": "code",
   "execution_count": null,
   "metadata": {},
   "outputs": [],
   "source": [
    "sampled = sampled[~sampled.isin([np.nan, np.inf, -np.inf]).any(1)]\n",
    "sampled"
   ]
  },
  {
   "cell_type": "code",
   "execution_count": null,
   "metadata": {},
   "outputs": [],
   "source": [
    "\"\"\"\n",
    "Sets the input attributes as the first 16, with the 17th attribute acting as the output.\n",
    "The most relevent attributes that apply to the output are then graphed through the feature importance function.\n",
    "\"\"\"\n",
    "x = df.iloc[:, 0:16]\n",
    "y = df.iloc[:, -1]\n",
    "y = y.astype('int')\n",
    "\n",
    "model = ExtraTreesClassifier()\n",
    "model.fit(x, y)\n",
    "print(model.feature_importances_)\n",
    "feat_importances = pd.Series(model.feature_importances_, index=x.columns)\n",
    "feat_importances.nlargest(10).plot(kind='barh')\n",
    "plt.show()"
   ]
  },
  {
   "cell_type": "code",
   "execution_count": null,
   "metadata": {
    "pycharm": {
     "name": "#%%\n"
    }
   },
   "outputs": [],
   "source": [
    "\"\"\"\n",
    "Filters the sample array set down to the 4 most influential attributes\n",
    "\"\"\"\n",
    "new_df = np.array(sampled[['duration','month','day','age']])\n",
    "\n",
    "new_df = np.nan_to_num(new_df)\n",
    "new_df = new_df.astype('int')"
   ]
  },
  {
   "cell_type": "code",
   "execution_count": null,
   "metadata": {
    "pycharm": {
     "name": "#%%\n"
    }
   },
   "outputs": [],
   "source": [
    "\"\"\"\n",
    "Generates the elbow graph to help identify the number of clusters\n",
    "\"\"\"\n",
    "distortions = []\n",
    "for i in range(1, 11):\n",
    "    km = KMeans(n_clusters=i)\n",
    "    km.fit(new_df)\n",
    "    distortions.append(km.inertia_)\n",
    "    \n",
    "plt.plot(range(1, 11), distortions, 'bx-')\n",
    "plt.xlabel('Number of clusters')\n",
    "plt.ylabel('Distortion')\n",
    "plt.tight_layout()\n",
    "\n",
    "plt.show()"
   ]
  },
  {
   "cell_type": "code",
   "execution_count": null,
   "metadata": {},
   "outputs": [],
   "source": [
    "\"\"\"\n",
    "Fits the data to the KMeans algorithm for clustering based on the most 'balanced' K value found in the elbow graph\n",
    "\"\"\"\n",
    "\n",
    "km = KMeans(3)\n",
    "\n",
    "km.fit(df)"
   ]
  },
  {
   "cell_type": "code",
   "execution_count": null,
   "metadata": {},
   "outputs": [],
   "source": [
    "\"\"\"\n",
    "Preps and fits the pca algorithm to be able to easily plot the kmeans\n",
    "\"\"\"\n",
    "from sklearn.decomposition import PCA\n",
    "\n",
    "pca = PCA(n_components=2)\n",
    "\n",
    "pca_components = pca.fit_transform(df)\n",
    "pca_components\n",
    "\n",
    "labels = km.labels_"
   ]
  },
  {
   "cell_type": "code",
   "execution_count": null,
   "metadata": {},
   "outputs": [],
   "source": [
    "\"\"\"\n",
    "Check to see the pca columns\n",
    "\"\"\"\n",
    "pca_df = pd.DataFrame(data = pca_components, columns = ['pca1', 'pca2'])\n",
    "pca_df.head()"
   ]
  },
  {
   "cell_type": "code",
   "execution_count": null,
   "metadata": {},
   "outputs": [],
   "source": [
    "\"\"\"\n",
    "Sets the data for plotting\n",
    "\"\"\"\n",
    "pca_df = pd.concat([pca_df, pd.DataFrame({'cluster': labels})], axis = 1)\n",
    "pca_df.head()"
   ]
  },
  {
   "cell_type": "code",
   "execution_count": null,
   "metadata": {},
   "outputs": [],
   "source": [
    "\"\"\"\n",
    "Graphs the clusters for the total dataset\n",
    "\"\"\"\n",
    "import seaborn as sns\n",
    "plt.figure(figsize=(10,10))\n",
    "ax = sns.scatterplot(x = 'pca1', y = 'pca2', hue = 'cluster', data = pca_df, palette = ['red', 'blue', 'orange'])\n",
    "\n",
    "centers_on_PCs = pca.transform(km.cluster_centers_)\n",
    "plt.scatter(centers_on_PCs[:, 0], centers_on_PCs[:,1], s= 250, c = \"k\", marker=\"*\")"
   ]
  },
  {
   "cell_type": "code",
   "execution_count": null,
   "metadata": {},
   "outputs": [],
   "source": [
    "\"\"\"\n",
    "Calculates the percentages of each result type\n",
    "\"\"\"\n",
    "print(\"Percentage of positives\")\n",
    "sampled['y'].value_counts()/len(sampled)"
   ]
  },
  {
   "cell_type": "code",
   "execution_count": null,
   "metadata": {},
   "outputs": [],
   "source": [
    "\"\"\"\n",
    "Defines the x and y for the KFold cross validation\n",
    "\"\"\"\n",
    "x = new_df\n",
    "y = np.array(sampled['y'])"
   ]
  },
  {
   "cell_type": "code",
   "execution_count": null,
   "metadata": {},
   "outputs": [],
   "source": [
    "\"\"\"\n",
    "Generates the predicted scores from the cross validation scores\n",
    "\"\"\"\n",
    "from sklearn.model_selection import cross_val_score, KFold, train_test_split\n",
    "from sklearn import svm\n",
    "\n",
    "clf = svm.SVC(kernel='linear', C=1)\n",
    "\n",
    "cv=KFold(n_splits=10, shuffle=True, random_state=1)\n",
    "\n",
    "predicted_score = cross_val_score(clf, x, y, cv=cv)\n"
   ]
  },
  {
   "cell_type": "code",
   "execution_count": null,
   "metadata": {},
   "outputs": [],
   "source": [
    "\"\"\"\n",
    "Generates the accuracy score for the average predicted values\n",
    "\"\"\"\n",
    "from numpy import mean, std\n",
    "print('Accuracy: %.3f ( +/- %.3f)' % (mean(predicted_score), std(predicted_score)))"
   ]
  },
  {
   "cell_type": "code",
   "execution_count": null,
   "metadata": {},
   "outputs": [],
   "source": [
    "\"\"\"\n",
    "Prints the predicted values from the cross validation\n",
    "\"\"\"\n",
    "from sklearn.discriminant_analysis import LinearDiscriminantAnalysis\n",
    "from sklearn.model_selection import cross_val_predict\n",
    "\n",
    "X_train, X_test, Y_train, Y_test = train_test_split(new_df, y,train_size = 0.8, random_state=1)\n",
    "\n",
    "clf = LinearDiscriminantAnalysis()\n",
    "clf.fit(new_df, y)\n",
    "\n",
    "predicted = cross_val_predict(clf, new_df, y, cv=cv)\n",
    "\n",
    "predicted"
   ]
  },
  {
   "cell_type": "code",
   "execution_count": null,
   "metadata": {},
   "outputs": [],
   "source": [
    "\"\"\"\n",
    "Prints out a dataframe with the the actual and predicted values as columns\n",
    "\"\"\"\n",
    "data = {'y_Actual': sampled['y'],\n",
    "        'y_Predicted': predicted}\n",
    "\n",
    "data = pd.DataFrame(data, columns=['y_Actual', 'y_Predicted'])\n",
    "data"
   ]
  },
  {
   "cell_type": "code",
   "execution_count": null,
   "metadata": {},
   "outputs": [],
   "source": [
    "\"\"\"\n",
    "Prints a classification summary with more metrics to determine accuracy\n",
    "\"\"\"\n",
    "from sklearn.metrics import classification_report\n",
    "print(classification_report(sampled['y'], predicted))"
   ]
  },
  {
   "cell_type": "code",
   "execution_count": null,
   "metadata": {},
   "outputs": [],
   "source": [
    "\"\"\"\n",
    "Prints out confusion matrix\n",
    "\"\"\"\n",
    "confusion_matrix = pd.crosstab(data['y_Actual'], data['y_Predicted'], rownames=['Actual'], colnames=['Predicted'], margins= True)\n",
    "\n",
    "sns.heatmap(confusion_matrix, annot=True)\n",
    "plt.show()"
   ]
  },
  {
   "cell_type": "code",
   "execution_count": null,
   "metadata": {},
   "outputs": [],
   "source": []
  }
 ],
 "metadata": {
  "kernelspec": {
   "display_name": "Python 3",
   "language": "python",
   "name": "python3"
  },
  "language_info": {
   "codemirror_mode": {
    "name": "ipython",
    "version": 3
   },
   "file_extension": ".py",
   "mimetype": "text/x-python",
   "name": "python",
   "nbconvert_exporter": "python",
   "pygments_lexer": "ipython3",
   "version": "3.8.2"
  }
 },
 "nbformat": 4,
 "nbformat_minor": 2
}
