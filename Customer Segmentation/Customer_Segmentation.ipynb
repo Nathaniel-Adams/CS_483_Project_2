{
 "metadata": {
  "language_info": {
   "codemirror_mode": {
    "name": "ipython",
    "version": 3
   },
   "file_extension": ".py",
   "mimetype": "text/x-python",
   "name": "python",
   "nbconvert_exporter": "python",
   "pygments_lexer": "ipython3",
   "version": "3.8.5-final"
  },
  "orig_nbformat": 2,
  "kernelspec": {
   "name": "python3",
   "language": "python",
   "display_name": "Python 3"
  }
 },
 "nbformat": 4,
 "nbformat_minor": 2,
 "cells": [
  {
   "cell_type": "code",
   "execution_count": 1,
   "outputs": [],
   "source": [
    "##################################\n",
    "import matplotlib.pyplot as plt\n",
    "from sklearn.cluster import KMeans\n",
    "import pandas as pd \n",
    "import numpy as np\n",
    "import random\n",
    "##################################"
   ],
   "metadata": {
    "collapsed": false,
    "pycharm": {
     "name": "#%%\n"
    }
   }
  },
  {
   "cell_type": "code",
   "execution_count": 2,
   "outputs": [
    {
     "data": {
      "text/plain": "      age            job  marital  education default  balance housing loan  \\\n4516   33       services  married  secondary      no     -333     yes   no   \n4517   57  self-employed  married   tertiary     yes    -3313     yes  yes   \n4518   57     technician  married  secondary      no      295      no   no   \n4519   28    blue-collar  married  secondary      no     1137      no   no   \n4520   44   entrepreneur   single   tertiary      no     1136     yes  yes   \n\n       contact  day month  duration  campaign  pdays  previous poutcome   y  \n4516  cellular   30   jul       329         5     -1         0  unknown  no  \n4517   unknown    9   may       153         1     -1         0  unknown  no  \n4518  cellular   19   aug       151        11     -1         0  unknown  no  \n4519  cellular    6   feb       129         4    211         3    other  no  \n4520  cellular    3   apr       345         2    249         7    other  no  ",
      "text/html": "<div>\n<style scoped>\n    .dataframe tbody tr th:only-of-type {\n        vertical-align: middle;\n    }\n\n    .dataframe tbody tr th {\n        vertical-align: top;\n    }\n\n    .dataframe thead th {\n        text-align: right;\n    }\n</style>\n<table border=\"1\" class=\"dataframe\">\n  <thead>\n    <tr style=\"text-align: right;\">\n      <th></th>\n      <th>age</th>\n      <th>job</th>\n      <th>marital</th>\n      <th>education</th>\n      <th>default</th>\n      <th>balance</th>\n      <th>housing</th>\n      <th>loan</th>\n      <th>contact</th>\n      <th>day</th>\n      <th>month</th>\n      <th>duration</th>\n      <th>campaign</th>\n      <th>pdays</th>\n      <th>previous</th>\n      <th>poutcome</th>\n      <th>y</th>\n    </tr>\n  </thead>\n  <tbody>\n    <tr>\n      <th>4516</th>\n      <td>33</td>\n      <td>services</td>\n      <td>married</td>\n      <td>secondary</td>\n      <td>no</td>\n      <td>-333</td>\n      <td>yes</td>\n      <td>no</td>\n      <td>cellular</td>\n      <td>30</td>\n      <td>jul</td>\n      <td>329</td>\n      <td>5</td>\n      <td>-1</td>\n      <td>0</td>\n      <td>unknown</td>\n      <td>no</td>\n    </tr>\n    <tr>\n      <th>4517</th>\n      <td>57</td>\n      <td>self-employed</td>\n      <td>married</td>\n      <td>tertiary</td>\n      <td>yes</td>\n      <td>-3313</td>\n      <td>yes</td>\n      <td>yes</td>\n      <td>unknown</td>\n      <td>9</td>\n      <td>may</td>\n      <td>153</td>\n      <td>1</td>\n      <td>-1</td>\n      <td>0</td>\n      <td>unknown</td>\n      <td>no</td>\n    </tr>\n    <tr>\n      <th>4518</th>\n      <td>57</td>\n      <td>technician</td>\n      <td>married</td>\n      <td>secondary</td>\n      <td>no</td>\n      <td>295</td>\n      <td>no</td>\n      <td>no</td>\n      <td>cellular</td>\n      <td>19</td>\n      <td>aug</td>\n      <td>151</td>\n      <td>11</td>\n      <td>-1</td>\n      <td>0</td>\n      <td>unknown</td>\n      <td>no</td>\n    </tr>\n    <tr>\n      <th>4519</th>\n      <td>28</td>\n      <td>blue-collar</td>\n      <td>married</td>\n      <td>secondary</td>\n      <td>no</td>\n      <td>1137</td>\n      <td>no</td>\n      <td>no</td>\n      <td>cellular</td>\n      <td>6</td>\n      <td>feb</td>\n      <td>129</td>\n      <td>4</td>\n      <td>211</td>\n      <td>3</td>\n      <td>other</td>\n      <td>no</td>\n    </tr>\n    <tr>\n      <th>4520</th>\n      <td>44</td>\n      <td>entrepreneur</td>\n      <td>single</td>\n      <td>tertiary</td>\n      <td>no</td>\n      <td>1136</td>\n      <td>yes</td>\n      <td>yes</td>\n      <td>cellular</td>\n      <td>3</td>\n      <td>apr</td>\n      <td>345</td>\n      <td>2</td>\n      <td>249</td>\n      <td>7</td>\n      <td>other</td>\n      <td>no</td>\n    </tr>\n  </tbody>\n</table>\n</div>"
     },
     "execution_count": 2,
     "metadata": {},
     "output_type": "execute_result"
    }
   ],
   "source": [
    "df = pd.read_csv(\"bank.csv\")\n",
    "df.tail()"
   ],
   "metadata": {
    "collapsed": false,
    "pycharm": {
     "name": "#%%\n"
    }
   }
  },
  {
   "cell_type": "code",
   "execution_count": 3,
   "outputs": [
    {
     "data": {
      "text/plain": "      age          job   marital  education default  balance housing loan  \\\n3792   42   technician   married  secondary      no        2      no   no   \n2885   26     services    single  secondary      no       50     yes   no   \n865    32  blue-collar    single  secondary      no     -255      no  yes   \n1336   26  blue-collar    single  secondary      no      856     yes  yes   \n4378   59    housemaid  divorced    primary      no      195      no   no   \n\n       contact  day month  duration  campaign  pdays  previous poutcome   y  \n3792   unknown   29   may       249         2     -1         0  unknown  no  \n2885  cellular   12   aug       153         1     -1         0  unknown  no  \n865    unknown    2   jul       957         3     -1         0  unknown  no  \n1336  cellular   30   jul        95         5     -1         0  unknown  no  \n4378   unknown    5   may       366         2     -1         0  unknown  no  ",
      "text/html": "<div>\n<style scoped>\n    .dataframe tbody tr th:only-of-type {\n        vertical-align: middle;\n    }\n\n    .dataframe tbody tr th {\n        vertical-align: top;\n    }\n\n    .dataframe thead th {\n        text-align: right;\n    }\n</style>\n<table border=\"1\" class=\"dataframe\">\n  <thead>\n    <tr style=\"text-align: right;\">\n      <th></th>\n      <th>age</th>\n      <th>job</th>\n      <th>marital</th>\n      <th>education</th>\n      <th>default</th>\n      <th>balance</th>\n      <th>housing</th>\n      <th>loan</th>\n      <th>contact</th>\n      <th>day</th>\n      <th>month</th>\n      <th>duration</th>\n      <th>campaign</th>\n      <th>pdays</th>\n      <th>previous</th>\n      <th>poutcome</th>\n      <th>y</th>\n    </tr>\n  </thead>\n  <tbody>\n    <tr>\n      <th>3792</th>\n      <td>42</td>\n      <td>technician</td>\n      <td>married</td>\n      <td>secondary</td>\n      <td>no</td>\n      <td>2</td>\n      <td>no</td>\n      <td>no</td>\n      <td>unknown</td>\n      <td>29</td>\n      <td>may</td>\n      <td>249</td>\n      <td>2</td>\n      <td>-1</td>\n      <td>0</td>\n      <td>unknown</td>\n      <td>no</td>\n    </tr>\n    <tr>\n      <th>2885</th>\n      <td>26</td>\n      <td>services</td>\n      <td>single</td>\n      <td>secondary</td>\n      <td>no</td>\n      <td>50</td>\n      <td>yes</td>\n      <td>no</td>\n      <td>cellular</td>\n      <td>12</td>\n      <td>aug</td>\n      <td>153</td>\n      <td>1</td>\n      <td>-1</td>\n      <td>0</td>\n      <td>unknown</td>\n      <td>no</td>\n    </tr>\n    <tr>\n      <th>865</th>\n      <td>32</td>\n      <td>blue-collar</td>\n      <td>single</td>\n      <td>secondary</td>\n      <td>no</td>\n      <td>-255</td>\n      <td>no</td>\n      <td>yes</td>\n      <td>unknown</td>\n      <td>2</td>\n      <td>jul</td>\n      <td>957</td>\n      <td>3</td>\n      <td>-1</td>\n      <td>0</td>\n      <td>unknown</td>\n      <td>no</td>\n    </tr>\n    <tr>\n      <th>1336</th>\n      <td>26</td>\n      <td>blue-collar</td>\n      <td>single</td>\n      <td>secondary</td>\n      <td>no</td>\n      <td>856</td>\n      <td>yes</td>\n      <td>yes</td>\n      <td>cellular</td>\n      <td>30</td>\n      <td>jul</td>\n      <td>95</td>\n      <td>5</td>\n      <td>-1</td>\n      <td>0</td>\n      <td>unknown</td>\n      <td>no</td>\n    </tr>\n    <tr>\n      <th>4378</th>\n      <td>59</td>\n      <td>housemaid</td>\n      <td>divorced</td>\n      <td>primary</td>\n      <td>no</td>\n      <td>195</td>\n      <td>no</td>\n      <td>no</td>\n      <td>unknown</td>\n      <td>5</td>\n      <td>may</td>\n      <td>366</td>\n      <td>2</td>\n      <td>-1</td>\n      <td>0</td>\n      <td>unknown</td>\n      <td>no</td>\n    </tr>\n  </tbody>\n</table>\n</div>"
     },
     "execution_count": 3,
     "metadata": {},
     "output_type": "execute_result"
    }
   ],
   "source": [
    "sampled = df.sample(1000)\n",
    "sampled.tail()"
   ],
   "metadata": {
    "collapsed": false,
    "pycharm": {
     "name": "#%%\n"
    }
   }
  },
  {
   "cell_type": "code",
   "execution_count": 4,
   "outputs": [
    {
     "data": {
      "text/plain": "array([[   29, 22171],\n       [   33,    86],\n       [   27,  -151],\n       ...,\n       [   32,  -255],\n       [   26,   856],\n       [   59,   195]], dtype=int64)"
     },
     "execution_count": 4,
     "metadata": {},
     "output_type": "execute_result"
    }
   ],
   "source": [
    "new_df = np.array(sampled[['age','balance']])\n",
    "new_df"
   ],
   "metadata": {
    "collapsed": false,
    "pycharm": {
     "name": "#%%\n"
    }
   }
  },
  {
   "cell_type": "code",
   "execution_count": 5,
   "outputs": [
    {
     "data": {
      "text/plain": "<Figure size 432x288 with 1 Axes>",
      "image/png": "[encoded data removed]"
     },
     "metadata": {
      "needs_background": "light"
     },
     "output_type": "display_data"
    }
   ],
   "source": [
    "distortions = []\n",
    "for i in range(1, 11):\n",
    "    km = KMeans(n_clusters=i)\n",
    "    km.fit(new_df)\n",
    "    distortions.append(km.inertia_)\n",
    "plt.plot(range(1, 11), distortions, 'bx-')\n",
    "plt.xlabel('Number of clusters')\n",
    "plt.ylabel('Distortion')\n",
    "plt.tight_layout()\n",
    "\n",
    "plt.show()"
   ],
   "metadata": {
    "collapsed": false,
    "pycharm": {
     "name": "#%%\n"
    }
   }
  },
  {
   "cell_type": "code",
   "execution_count": 5,
   "metadata": {},
   "outputs": [],
   "source": []
  },
  {
   "source": [
    "df = pd.read_csv(\"bank.csv\")\n",
    "df.tail()"
   ],
   "cell_type": "code",
   "metadata": {},
   "execution_count": 6,
   "outputs": [
    {
     "data": {
      "text/plain": "      age            job  marital  education default  balance housing loan  \\\n4516   33       services  married  secondary      no     -333     yes   no   \n4517   57  self-employed  married   tertiary     yes    -3313     yes  yes   \n4518   57     technician  married  secondary      no      295      no   no   \n4519   28    blue-collar  married  secondary      no     1137      no   no   \n4520   44   entrepreneur   single   tertiary      no     1136     yes  yes   \n\n       contact  day month  duration  campaign  pdays  previous poutcome   y  \n4516  cellular   30   jul       329         5     -1         0  unknown  no  \n4517   unknown    9   may       153         1     -1         0  unknown  no  \n4518  cellular   19   aug       151        11     -1         0  unknown  no  \n4519  cellular    6   feb       129         4    211         3    other  no  \n4520  cellular    3   apr       345         2    249         7    other  no  ",
      "text/html": "<div>\n<style scoped>\n    .dataframe tbody tr th:only-of-type {\n        vertical-align: middle;\n    }\n\n    .dataframe tbody tr th {\n        vertical-align: top;\n    }\n\n    .dataframe thead th {\n        text-align: right;\n    }\n</style>\n<table border=\"1\" class=\"dataframe\">\n  <thead>\n    <tr style=\"text-align: right;\">\n      <th></th>\n      <th>age</th>\n      <th>job</th>\n      <th>marital</th>\n      <th>education</th>\n      <th>default</th>\n      <th>balance</th>\n      <th>housing</th>\n      <th>loan</th>\n      <th>contact</th>\n      <th>day</th>\n      <th>month</th>\n      <th>duration</th>\n      <th>campaign</th>\n      <th>pdays</th>\n      <th>previous</th>\n      <th>poutcome</th>\n      <th>y</th>\n    </tr>\n  </thead>\n  <tbody>\n    <tr>\n      <th>4516</th>\n      <td>33</td>\n      <td>services</td>\n      <td>married</td>\n      <td>secondary</td>\n      <td>no</td>\n      <td>-333</td>\n      <td>yes</td>\n      <td>no</td>\n      <td>cellular</td>\n      <td>30</td>\n      <td>jul</td>\n      <td>329</td>\n      <td>5</td>\n      <td>-1</td>\n      <td>0</td>\n      <td>unknown</td>\n      <td>no</td>\n    </tr>\n    <tr>\n      <th>4517</th>\n      <td>57</td>\n      <td>self-employed</td>\n      <td>married</td>\n      <td>tertiary</td>\n      <td>yes</td>\n      <td>-3313</td>\n      <td>yes</td>\n      <td>yes</td>\n      <td>unknown</td>\n      <td>9</td>\n      <td>may</td>\n      <td>153</td>\n      <td>1</td>\n      <td>-1</td>\n      <td>0</td>\n      <td>unknown</td>\n      <td>no</td>\n    </tr>\n    <tr>\n      <th>4518</th>\n      <td>57</td>\n      <td>technician</td>\n      <td>married</td>\n      <td>secondary</td>\n      <td>no</td>\n      <td>295</td>\n      <td>no</td>\n      <td>no</td>\n      <td>cellular</td>\n      <td>19</td>\n      <td>aug</td>\n      <td>151</td>\n      <td>11</td>\n      <td>-1</td>\n      <td>0</td>\n      <td>unknown</td>\n      <td>no</td>\n    </tr>\n    <tr>\n      <th>4519</th>\n      <td>28</td>\n      <td>blue-collar</td>\n      <td>married</td>\n      <td>secondary</td>\n      <td>no</td>\n      <td>1137</td>\n      <td>no</td>\n      <td>no</td>\n      <td>cellular</td>\n      <td>6</td>\n      <td>feb</td>\n      <td>129</td>\n      <td>4</td>\n      <td>211</td>\n      <td>3</td>\n      <td>other</td>\n      <td>no</td>\n    </tr>\n    <tr>\n      <th>4520</th>\n      <td>44</td>\n      <td>entrepreneur</td>\n      <td>single</td>\n      <td>tertiary</td>\n      <td>no</td>\n      <td>1136</td>\n      <td>yes</td>\n      <td>yes</td>\n      <td>cellular</td>\n      <td>3</td>\n      <td>apr</td>\n      <td>345</td>\n      <td>2</td>\n      <td>249</td>\n      <td>7</td>\n      <td>other</td>\n      <td>no</td>\n    </tr>\n  </tbody>\n</table>\n</div>"
     },
     "execution_count": 6,
     "metadata": {},
     "output_type": "execute_result"
    }
   ]
  },
  {
   "cell_type": "code",
   "execution_count": 7,
   "metadata": {},
   "outputs": [
    {
     "data": {
      "text/plain": "      age          job   marital  education default  balance housing loan  \\\n463    35  blue-collar  divorced  secondary      no     3102     yes   no   \n2885   26     services    single  secondary      no       50     yes   no   \n4500   38       admin.   married  secondary      no     4196     yes   no   \n536    45   management   married   tertiary      no     1529      no   no   \n1714   57   technician   married    primary      no        0      no   no   \n\n       contact  day month  duration  campaign  pdays  previous poutcome   y  \n463   cellular   20   nov       138         1     -1         0  unknown  no  \n2885  cellular   12   aug       153         1     -1         0  unknown  no  \n4500  cellular   12   may       193         2     -1         0  unknown  no  \n536   cellular   30   jun       160         1     -1         0  unknown  no  \n1714   unknown    5   jun        58         8     -1         0  unknown  no  ",
      "text/html": "<div>\n<style scoped>\n    .dataframe tbody tr th:only-of-type {\n        vertical-align: middle;\n    }\n\n    .dataframe tbody tr th {\n        vertical-align: top;\n    }\n\n    .dataframe thead th {\n        text-align: right;\n    }\n</style>\n<table border=\"1\" class=\"dataframe\">\n  <thead>\n    <tr style=\"text-align: right;\">\n      <th></th>\n      <th>age</th>\n      <th>job</th>\n      <th>marital</th>\n      <th>education</th>\n      <th>default</th>\n      <th>balance</th>\n      <th>housing</th>\n      <th>loan</th>\n      <th>contact</th>\n      <th>day</th>\n      <th>month</th>\n      <th>duration</th>\n      <th>campaign</th>\n      <th>pdays</th>\n      <th>previous</th>\n      <th>poutcome</th>\n      <th>y</th>\n    </tr>\n  </thead>\n  <tbody>\n    <tr>\n      <th>463</th>\n      <td>35</td>\n      <td>blue-collar</td>\n      <td>divorced</td>\n      <td>secondary</td>\n      <td>no</td>\n      <td>3102</td>\n      <td>yes</td>\n      <td>no</td>\n      <td>cellular</td>\n      <td>20</td>\n      <td>nov</td>\n      <td>138</td>\n      <td>1</td>\n      <td>-1</td>\n      <td>0</td>\n      <td>unknown</td>\n      <td>no</td>\n    </tr>\n    <tr>\n      <th>2885</th>\n      <td>26</td>\n      <td>services</td>\n      <td>single</td>\n      <td>secondary</td>\n      <td>no</td>\n      <td>50</td>\n      <td>yes</td>\n      <td>no</td>\n      <td>cellular</td>\n      <td>12</td>\n      <td>aug</td>\n      <td>153</td>\n      <td>1</td>\n      <td>-1</td>\n      <td>0</td>\n      <td>unknown</td>\n      <td>no</td>\n    </tr>\n    <tr>\n      <th>4500</th>\n      <td>38</td>\n      <td>admin.</td>\n      <td>married</td>\n      <td>secondary</td>\n      <td>no</td>\n      <td>4196</td>\n      <td>yes</td>\n      <td>no</td>\n      <td>cellular</td>\n      <td>12</td>\n      <td>may</td>\n      <td>193</td>\n      <td>2</td>\n      <td>-1</td>\n      <td>0</td>\n      <td>unknown</td>\n      <td>no</td>\n    </tr>\n    <tr>\n      <th>536</th>\n      <td>45</td>\n      <td>management</td>\n      <td>married</td>\n      <td>tertiary</td>\n      <td>no</td>\n      <td>1529</td>\n      <td>no</td>\n      <td>no</td>\n      <td>cellular</td>\n      <td>30</td>\n      <td>jun</td>\n      <td>160</td>\n      <td>1</td>\n      <td>-1</td>\n      <td>0</td>\n      <td>unknown</td>\n      <td>no</td>\n    </tr>\n    <tr>\n      <th>1714</th>\n      <td>57</td>\n      <td>technician</td>\n      <td>married</td>\n      <td>primary</td>\n      <td>no</td>\n      <td>0</td>\n      <td>no</td>\n      <td>no</td>\n      <td>unknown</td>\n      <td>5</td>\n      <td>jun</td>\n      <td>58</td>\n      <td>8</td>\n      <td>-1</td>\n      <td>0</td>\n      <td>unknown</td>\n      <td>no</td>\n    </tr>\n  </tbody>\n</table>\n</div>"
     },
     "execution_count": 7,
     "metadata": {},
     "output_type": "execute_result"
    }
   ],
   "source": [
    "sampled = df.sample(1000)\n",
    "sampled.tail()"
   ]
  },
  {
   "cell_type": "code",
   "execution_count": 8,
   "metadata": {},
   "outputs": [
    {
     "data": {
      "text/plain": "array([[  55, 1011],\n       [  43, 3403],\n       [  24, 1222],\n       ...,\n       [  38, 4196],\n       [  45, 1529],\n       [  57,    0]], dtype=int64)"
     },
     "execution_count": 8,
     "metadata": {},
     "output_type": "execute_result"
    }
   ],
   "source": [
    "new_df = np.array(sampled[['age','balance']])\n",
    "new_df"
   ]
  },
  {
   "cell_type": "code",
   "execution_count": 9,
   "metadata": {},
   "outputs": [
    {
     "data": {
      "text/plain": "<Figure size 432x288 with 1 Axes>",
      "image/png": "[encoded data removed]"
     },
     "metadata": {
      "needs_background": "light"
     },
     "output_type": "display_data"
    }
   ],
   "source": [
    "distortions = []\n",
    "for i in range(1, 11):\n",
    "    km = KMeans(n_clusters=i)\n",
    "    km.fit(new_df)\n",
    "    distortions.append(km.inertia_)\n",
    "plt.plot(range(1, 11), distortions, 'bx-')\n",
    "plt.xlabel('Number of clusters')\n",
    "plt.ylabel('Distortion')\n",
    "plt.tight_layout()\n",
    "\n",
    "plt.show()"
   ]
  },
  {
   "cell_type": "code",
   "execution_count": 9,
   "metadata": {},
   "outputs": [],
   "source": []
  }
 ]
}