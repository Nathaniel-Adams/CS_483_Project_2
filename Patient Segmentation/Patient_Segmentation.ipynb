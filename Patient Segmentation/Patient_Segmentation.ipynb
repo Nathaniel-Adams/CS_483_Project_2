{
 "cells": [
  {
   "cell_type": "code",
   "execution_count": 885,
   "metadata": {
    "collapsed": true
   },
   "outputs": [],
   "source": [
    "import matplotlib.pyplot as plt\n",
    "from sklearn.cluster import KMeans\n",
    "import pandas as pd\n",
    "import numpy as np\n",
    "import re\n",
    "import random"
   ]
  },
  {
   "cell_type": "code",
   "execution_count": 886,
   "outputs": [
    {
     "data": {
      "text/plain": "        ID  SUB_ID  Country  Province/State  Study Pop Size (N)  \\\n0      1.0     0.0        0               0               191.0   \n1      1.0     1.0        0               0                54.0   \n2      1.0     2.0        0               0               137.0   \n3      2.0     0.0        0               0               199.0   \n4      2.0     1.0        0               0                99.0   \n..     ...     ...      ...             ...                 ...   \n534  202.0     2.0        2              56                99.0   \n535  202.0     3.0        2              56               117.0   \n536  202.0     4.0        2              56               247.0   \n537  202.0     5.0        2              56                50.0   \n538   -1.0    -1.0       20              11                -1.0   \n\n     Proportion of values entered in row (%)  Paper Title  Journal  Author  \\\n0                                      60.11            0        0       0   \n1                                      60.11            0        0       0   \n2                                      60.11            0        0       0   \n3                                      44.94            1        1       1   \n4                                      44.94            1        1       1   \n..                                       ...          ...      ...     ...   \n534                                    23.60          175       40      88   \n535                                    23.03          175       40      88   \n536                                    25.84          175       40      88   \n537                                    25.28          175       40      88   \n538                                    -1.00          176       33     130   \n\n     Source  ...  Hypoproteinaemia  Acidosis  Hospital admission (%)  \\\n0         0  ...             11.52      8.90                     1.0   \n1         0  ...             37.04     29.63                     1.0   \n2         0  ...              1.46      0.73                     1.0   \n3         1  ...             -1.00     -1.00                     1.0   \n4         1  ...             -1.00     -1.00                     1.0   \n..      ...  ...               ...       ...                     ...   \n534     202  ...             -1.00     -1.00                     1.0   \n535     202  ...             -1.00     -1.00                     1.0   \n536     202  ...             -1.00     -1.00                     1.0   \n537     202  ...             -1.00     -1.00                     1.0   \n538      35  ...             -1.00     -1.00                    -1.0   \n\n     ICU admission  Discharged (%)  ICU length of stay, days  \\\n0             0.26               0                         0   \n1             0.72               1                         0   \n2             0.08               2                         1   \n3            -1.00               0                         2   \n4            -1.00               3                         3   \n..             ...             ...                       ...   \n534           0.32              71                         0   \n535           0.54              53                        13   \n536           0.39              47                         0   \n537           0.42              22                        13   \n538          -1.00               6                         5   \n\n     Hospital length of stay, days  Days to Viral Clearance (Median)  \\\n0                                0                              20.0   \n1                                1                               7.5   \n2                                2                              20.0   \n3                                3                              28.0   \n4                                4                              28.0   \n..                             ...                               ...   \n534                             28                              -1.0   \n535                             13                              -1.0   \n536                             28                              -1.0   \n537                             28                              -1.0   \n538                              7                              -1.0   \n\n     Mortality  \\\n0            0   \n1            1   \n2            2   \n3            3   \n4            4   \n..         ...   \n534         30   \n535         24   \n536          3   \n537         38   \n538         18   \n\n     Projected Mortality (accounting for patients not currently discharged)  \n0                                                    0                       \n1                                                    1                       \n2                                                    2                       \n3                                                    3                       \n4                                                    4                       \n..                                                 ...                       \n534                                                 42                       \n535                                                 57                       \n536                                                  4                       \n537                                                 25                       \n538                                                  7                       \n\n[539 rows x 162 columns]",
      "text/html": "<div>\n<style scoped>\n    .dataframe tbody tr th:only-of-type {\n        vertical-align: middle;\n    }\n\n    .dataframe tbody tr th {\n        vertical-align: top;\n    }\n\n    .dataframe thead th {\n        text-align: right;\n    }\n</style>\n<table border=\"1\" class=\"dataframe\">\n  <thead>\n    <tr style=\"text-align: right;\">\n      <th></th>\n      <th>ID</th>\n      <th>SUB_ID</th>\n      <th>Country</th>\n      <th>Province/State</th>\n      <th>Study Pop Size (N)</th>\n      <th>Proportion of values entered in row (%)</th>\n      <th>Paper Title</th>\n      <th>Journal</th>\n      <th>Author</th>\n      <th>Source</th>\n      <th>...</th>\n      <th>Hypoproteinaemia</th>\n      <th>Acidosis</th>\n      <th>Hospital admission (%)</th>\n      <th>ICU admission</th>\n      <th>Discharged (%)</th>\n      <th>ICU length of stay, days</th>\n      <th>Hospital length of stay, days</th>\n      <th>Days to Viral Clearance (Median)</th>\n      <th>Mortality</th>\n      <th>Projected Mortality (accounting for patients not currently discharged)</th>\n    </tr>\n  </thead>\n  <tbody>\n    <tr>\n      <th>0</th>\n      <td>1.0</td>\n      <td>0.0</td>\n      <td>0</td>\n      <td>0</td>\n      <td>191.0</td>\n      <td>60.11</td>\n      <td>0</td>\n      <td>0</td>\n      <td>0</td>\n      <td>0</td>\n      <td>...</td>\n      <td>11.52</td>\n      <td>8.90</td>\n      <td>1.0</td>\n      <td>0.26</td>\n      <td>0</td>\n      <td>0</td>\n      <td>0</td>\n      <td>20.0</td>\n      <td>0</td>\n      <td>0</td>\n    </tr>\n    <tr>\n      <th>1</th>\n      <td>1.0</td>\n      <td>1.0</td>\n      <td>0</td>\n      <td>0</td>\n      <td>54.0</td>\n      <td>60.11</td>\n      <td>0</td>\n      <td>0</td>\n      <td>0</td>\n      <td>0</td>\n      <td>...</td>\n      <td>37.04</td>\n      <td>29.63</td>\n      <td>1.0</td>\n      <td>0.72</td>\n      <td>1</td>\n      <td>0</td>\n      <td>1</td>\n      <td>7.5</td>\n      <td>1</td>\n      <td>1</td>\n    </tr>\n    <tr>\n      <th>2</th>\n      <td>1.0</td>\n      <td>2.0</td>\n      <td>0</td>\n      <td>0</td>\n      <td>137.0</td>\n      <td>60.11</td>\n      <td>0</td>\n      <td>0</td>\n      <td>0</td>\n      <td>0</td>\n      <td>...</td>\n      <td>1.46</td>\n      <td>0.73</td>\n      <td>1.0</td>\n      <td>0.08</td>\n      <td>2</td>\n      <td>1</td>\n      <td>2</td>\n      <td>20.0</td>\n      <td>2</td>\n      <td>2</td>\n    </tr>\n    <tr>\n      <th>3</th>\n      <td>2.0</td>\n      <td>0.0</td>\n      <td>0</td>\n      <td>0</td>\n      <td>199.0</td>\n      <td>44.94</td>\n      <td>1</td>\n      <td>1</td>\n      <td>1</td>\n      <td>1</td>\n      <td>...</td>\n      <td>-1.00</td>\n      <td>-1.00</td>\n      <td>1.0</td>\n      <td>-1.00</td>\n      <td>0</td>\n      <td>2</td>\n      <td>3</td>\n      <td>28.0</td>\n      <td>3</td>\n      <td>3</td>\n    </tr>\n    <tr>\n      <th>4</th>\n      <td>2.0</td>\n      <td>1.0</td>\n      <td>0</td>\n      <td>0</td>\n      <td>99.0</td>\n      <td>44.94</td>\n      <td>1</td>\n      <td>1</td>\n      <td>1</td>\n      <td>1</td>\n      <td>...</td>\n      <td>-1.00</td>\n      <td>-1.00</td>\n      <td>1.0</td>\n      <td>-1.00</td>\n      <td>3</td>\n      <td>3</td>\n      <td>4</td>\n      <td>28.0</td>\n      <td>4</td>\n      <td>4</td>\n    </tr>\n    <tr>\n      <th>...</th>\n      <td>...</td>\n      <td>...</td>\n      <td>...</td>\n      <td>...</td>\n      <td>...</td>\n      <td>...</td>\n      <td>...</td>\n      <td>...</td>\n      <td>...</td>\n      <td>...</td>\n      <td>...</td>\n      <td>...</td>\n      <td>...</td>\n      <td>...</td>\n      <td>...</td>\n      <td>...</td>\n      <td>...</td>\n      <td>...</td>\n      <td>...</td>\n      <td>...</td>\n      <td>...</td>\n    </tr>\n    <tr>\n      <th>534</th>\n      <td>202.0</td>\n      <td>2.0</td>\n      <td>2</td>\n      <td>56</td>\n      <td>99.0</td>\n      <td>23.60</td>\n      <td>175</td>\n      <td>40</td>\n      <td>88</td>\n      <td>202</td>\n      <td>...</td>\n      <td>-1.00</td>\n      <td>-1.00</td>\n      <td>1.0</td>\n      <td>0.32</td>\n      <td>71</td>\n      <td>0</td>\n      <td>28</td>\n      <td>-1.0</td>\n      <td>30</td>\n      <td>42</td>\n    </tr>\n    <tr>\n      <th>535</th>\n      <td>202.0</td>\n      <td>3.0</td>\n      <td>2</td>\n      <td>56</td>\n      <td>117.0</td>\n      <td>23.03</td>\n      <td>175</td>\n      <td>40</td>\n      <td>88</td>\n      <td>202</td>\n      <td>...</td>\n      <td>-1.00</td>\n      <td>-1.00</td>\n      <td>1.0</td>\n      <td>0.54</td>\n      <td>53</td>\n      <td>13</td>\n      <td>13</td>\n      <td>-1.0</td>\n      <td>24</td>\n      <td>57</td>\n    </tr>\n    <tr>\n      <th>536</th>\n      <td>202.0</td>\n      <td>4.0</td>\n      <td>2</td>\n      <td>56</td>\n      <td>247.0</td>\n      <td>25.84</td>\n      <td>175</td>\n      <td>40</td>\n      <td>88</td>\n      <td>202</td>\n      <td>...</td>\n      <td>-1.00</td>\n      <td>-1.00</td>\n      <td>1.0</td>\n      <td>0.39</td>\n      <td>47</td>\n      <td>0</td>\n      <td>28</td>\n      <td>-1.0</td>\n      <td>3</td>\n      <td>4</td>\n    </tr>\n    <tr>\n      <th>537</th>\n      <td>202.0</td>\n      <td>5.0</td>\n      <td>2</td>\n      <td>56</td>\n      <td>50.0</td>\n      <td>25.28</td>\n      <td>175</td>\n      <td>40</td>\n      <td>88</td>\n      <td>202</td>\n      <td>...</td>\n      <td>-1.00</td>\n      <td>-1.00</td>\n      <td>1.0</td>\n      <td>0.42</td>\n      <td>22</td>\n      <td>13</td>\n      <td>28</td>\n      <td>-1.0</td>\n      <td>38</td>\n      <td>25</td>\n    </tr>\n    <tr>\n      <th>538</th>\n      <td>-1.0</td>\n      <td>-1.0</td>\n      <td>20</td>\n      <td>11</td>\n      <td>-1.0</td>\n      <td>-1.00</td>\n      <td>176</td>\n      <td>33</td>\n      <td>130</td>\n      <td>35</td>\n      <td>...</td>\n      <td>-1.00</td>\n      <td>-1.00</td>\n      <td>-1.0</td>\n      <td>-1.00</td>\n      <td>6</td>\n      <td>5</td>\n      <td>7</td>\n      <td>-1.0</td>\n      <td>18</td>\n      <td>7</td>\n    </tr>\n  </tbody>\n</table>\n<p>539 rows × 162 columns</p>\n</div>"
     },
     "execution_count": 886,
     "metadata": {},
     "output_type": "execute_result"
    }
   ],
   "source": [
    "df = pd.read_csv(\"covid_analytics_clinical_data.csv\")\n",
    "for col in df.columns:\n",
    "    arr = df[col].to_numpy()\n",
    "    if isinstance(arr[df[col].first_valid_index()],str):\n",
    "        if re.search('.*%$', arr[df[col].first_valid_index()]):\n",
    "            df[col] = (df[col].str.strip('%').astype(float))\n",
    "        else:\n",
    "            df[col] = df[col].str.lower()\n",
    "            arr = df[col].to_numpy()\n",
    "            arr = pd.unique(arr)\n",
    "            classifier = np.array([i for i in range(len(arr))])\n",
    "            df[col]=df[col].replace(arr,classifier)\n",
    "df = df.fillna(-1)\n",
    "df"
   ],
   "metadata": {
    "collapsed": false,
    "pycharm": {
     "name": "#%%\n"
    }
   }
  },
  {
   "cell_type": "code",
   "execution_count": 887,
   "outputs": [],
   "source": [
    "sampled = df.sample(225)"
   ],
   "metadata": {
    "collapsed": false,
    "pycharm": {
     "name": "#%%\n"
    }
   }
  },
  {
   "cell_type": "code",
   "execution_count": 888,
   "outputs": [
    {
     "name": "stdout",
     "output_type": "stream",
     "text": [
      "[0.01026404 0.01140966 0.00391503 0.01029249 0.0096834  0.01128017\n",
      " 0.0105134  0.00885737 0.01019916 0.01005315 0.00678103 0.00026908\n",
      " 0.01295193 0.00115781 0.00744624 0.00839189 0.00652719 0.00463232\n",
      " 0.00945008 0.00317143 0.02096399 0.01518708 0.01794889 0.0060692\n",
      " 0.00707502 0.0060299  0.01699546 0.01218163 0.00836738 0.00398644\n",
      " 0.01552091 0.01173971 0.0040789  0.01070665 0.00508813 0.00594566\n",
      " 0.00704291 0.00456286 0.00489373 0.00309563 0.00530879 0.00505072\n",
      " 0.00171043 0.00247179 0.0011198  0.00066656 0.00389602 0.00450432\n",
      " 0.00300026 0.00250447 0.00665817 0.00163739 0.00367105 0.00398896\n",
      " 0.01668144 0.0167608  0.01453651 0.01154773 0.00848766 0.00751278\n",
      " 0.01016343 0.00689501 0.00974888 0.00743124 0.00996375 0.00452515\n",
      " 0.00371508 0.00207882 0.00742915 0.00699833 0.00465271 0.00470673\n",
      " 0.00505929 0.00565277 0.00074577 0.0079563  0.00701537 0.00518383\n",
      " 0.00466883 0.0022947  0.00243101 0.00086069 0.00525209 0.01391792\n",
      " 0.00592727 0.00615318 0.00772335 0.00548217 0.00415299 0.00436344\n",
      " 0.00535229 0.0053395  0.00451703 0.00081307 0.00114331 0.00732515\n",
      " 0.00454928 0.00443492 0.00531644 0.00462681 0.00435332 0.00526731\n",
      " 0.00335878 0.00292103 0.00061786 0.00388828 0.00491424 0.00435409\n",
      " 0.00432119 0.00271247 0.00193659 0.00218567 0.00659287 0.00479845\n",
      " 0.00648802 0.00144177 0.00262979 0.00429048 0.00676042 0.00614425\n",
      " 0.00621748 0.00964712 0.00529139 0.00232804 0.00336431 0.00138242\n",
      " 0.00228919 0.00333588 0.00452635 0.00361908 0.00379596 0.00846692\n",
      " 0.00649335 0.01051368 0.00865112 0.01027026 0.00361156 0.00593032\n",
      " 0.00714374 0.00286357 0.0022295  0.0022087  0.0012994  0.00453227\n",
      " 0.0004971  0.00447231 0.00273646 0.00463405 0.00281388 0.00203438\n",
      " 0.00360527 0.00344173 0.00047522 0.00025584 0.00599911 0.00735208\n",
      " 0.02250191 0.00299562 0.01398055 0.0014294  0.03777691]\n"
     ]
    },
    {
     "data": {
      "text/plain": "<Figure size 432x288 with 1 Axes>",
      "image/png": "[encoded data removed]"
     },
     "metadata": {
      "needs_background": "light"
     },
     "output_type": "display_data"
    }
   ],
   "source": [
    "\n",
    "x = sampled.iloc[:, 0:161]\n",
    "y = sampled.iloc[:, -1]\n",
    "y = y.astype('int')\n",
    "\n",
    "from sklearn.ensemble import ExtraTreesClassifier\n",
    "model = ExtraTreesClassifier()\n",
    "model.fit(x, y)\n",
    "print(model.feature_importances_)\n",
    "feat_importances = pd.Series(model.feature_importances_, index=x.columns)\n",
    "feat_importances.nlargest(10).plot(kind='barh')\n",
    "plt.show()"
   ],
   "metadata": {
    "collapsed": false,
    "pycharm": {
     "name": "#%%\n"
    }
   }
  },
  {
   "cell_type": "code",
   "execution_count": 889,
   "outputs": [],
   "source": [
    "new_df = np.array(sampled[['Mortality','Discharged (%)','Survivors', 'End-point vs Active', 'Any Comorbidity']])"
   ],
   "metadata": {
    "collapsed": false,
    "pycharm": {
     "name": "#%%\n"
    }
   }
  },
  {
   "cell_type": "code",
   "execution_count": 890,
   "outputs": [
    {
     "data": {
      "text/plain": "<Figure size 432x288 with 1 Axes>",
      "image/png": "[encoded data removed]"
     },
     "metadata": {
      "needs_background": "light"
     },
     "output_type": "display_data"
    }
   ],
   "source": [
    "distortions = []\n",
    "for i in range(1, 11):\n",
    "    km = KMeans(n_clusters=i)\n",
    "    km.fit(new_df)\n",
    "    distortions.append(km.inertia_)\n",
    "plt.plot(range(1, 11), distortions, 'bx-')\n",
    "plt.xlabel('Number of clusters')\n",
    "plt.ylabel('Distortion')\n",
    "plt.tight_layout()\n",
    "\n",
    "plt.show()"
   ],
   "metadata": {
    "collapsed": false,
    "pycharm": {
     "name": "#%%\n"
    }
   }
  },
  {
   "cell_type": "code",
   "execution_count": 891,
   "outputs": [
    {
     "data": {
      "text/plain": "KMeans(n_clusters=4)"
     },
     "execution_count": 891,
     "metadata": {},
     "output_type": "execute_result"
    }
   ],
   "source": [
    "km = KMeans(4)\n",
    "\n",
    "km.fit(new_df)\n"
   ],
   "metadata": {
    "collapsed": false,
    "pycharm": {
     "name": "#%%\n"
    }
   }
  },
  {
   "cell_type": "code",
   "execution_count": 892,
   "outputs": [],
   "source": [
    "x = np.nan_to_num(new_df)"
   ],
   "metadata": {
    "collapsed": false,
    "pycharm": {
     "name": "#%%\n"
    }
   }
  },
  {
   "cell_type": "code",
   "execution_count": 893,
   "outputs": [],
   "source": [
    "#uses the pca algorithm to be able to easily plot the kmeans\n",
    "from sklearn.decomposition import PCA\n",
    "\n",
    "pca = PCA(n_components=2)\n",
    "\n",
    "pca_components = pca.fit_transform(x)\n",
    "\n",
    "labels = km.labels_"
   ],
   "metadata": {
    "collapsed": false,
    "pycharm": {
     "name": "#%%\n"
    }
   }
  },
  {
   "cell_type": "code",
   "execution_count": 894,
   "outputs": [
    {
     "data": {
      "text/plain": "        pca1       pca2\n0 -20.073032 -17.097928\n1  12.057945  -3.545973\n2 -20.067207 -17.094791\n3 -24.724615  29.838949\n4 -19.970134 -18.040388",
      "text/html": "<div>\n<style scoped>\n    .dataframe tbody tr th:only-of-type {\n        vertical-align: middle;\n    }\n\n    .dataframe tbody tr th {\n        vertical-align: top;\n    }\n\n    .dataframe thead th {\n        text-align: right;\n    }\n</style>\n<table border=\"1\" class=\"dataframe\">\n  <thead>\n    <tr style=\"text-align: right;\">\n      <th></th>\n      <th>pca1</th>\n      <th>pca2</th>\n    </tr>\n  </thead>\n  <tbody>\n    <tr>\n      <th>0</th>\n      <td>-20.073032</td>\n      <td>-17.097928</td>\n    </tr>\n    <tr>\n      <th>1</th>\n      <td>12.057945</td>\n      <td>-3.545973</td>\n    </tr>\n    <tr>\n      <th>2</th>\n      <td>-20.067207</td>\n      <td>-17.094791</td>\n    </tr>\n    <tr>\n      <th>3</th>\n      <td>-24.724615</td>\n      <td>29.838949</td>\n    </tr>\n    <tr>\n      <th>4</th>\n      <td>-19.970134</td>\n      <td>-18.040388</td>\n    </tr>\n  </tbody>\n</table>\n</div>"
     },
     "execution_count": 894,
     "metadata": {},
     "output_type": "execute_result"
    }
   ],
   "source": [
    "#\n",
    "pca_df = pd.DataFrame(data = pca_components, columns = ['pca1', 'pca2'])\n",
    "pca_df.head()"
   ],
   "metadata": {
    "collapsed": false,
    "pycharm": {
     "name": "#%%\n"
    }
   }
  },
  {
   "cell_type": "code",
   "execution_count": 895,
   "outputs": [
    {
     "data": {
      "text/plain": "        pca1       pca2  cluster\n0 -20.073032 -17.097928        3\n1  12.057945  -3.545973        0\n2 -20.067207 -17.094791        3\n3 -24.724615  29.838949        1\n4 -19.970134 -18.040388        3",
      "text/html": "<div>\n<style scoped>\n    .dataframe tbody tr th:only-of-type {\n        vertical-align: middle;\n    }\n\n    .dataframe tbody tr th {\n        vertical-align: top;\n    }\n\n    .dataframe thead th {\n        text-align: right;\n    }\n</style>\n<table border=\"1\" class=\"dataframe\">\n  <thead>\n    <tr style=\"text-align: right;\">\n      <th></th>\n      <th>pca1</th>\n      <th>pca2</th>\n      <th>cluster</th>\n    </tr>\n  </thead>\n  <tbody>\n    <tr>\n      <th>0</th>\n      <td>-20.073032</td>\n      <td>-17.097928</td>\n      <td>3</td>\n    </tr>\n    <tr>\n      <th>1</th>\n      <td>12.057945</td>\n      <td>-3.545973</td>\n      <td>0</td>\n    </tr>\n    <tr>\n      <th>2</th>\n      <td>-20.067207</td>\n      <td>-17.094791</td>\n      <td>3</td>\n    </tr>\n    <tr>\n      <th>3</th>\n      <td>-24.724615</td>\n      <td>29.838949</td>\n      <td>1</td>\n    </tr>\n    <tr>\n      <th>4</th>\n      <td>-19.970134</td>\n      <td>-18.040388</td>\n      <td>3</td>\n    </tr>\n  </tbody>\n</table>\n</div>"
     },
     "execution_count": 895,
     "metadata": {},
     "output_type": "execute_result"
    }
   ],
   "source": [
    "pca_df = pd.concat([pca_df, pd.DataFrame({'cluster': labels})], axis = 1)\n",
    "pca_df.head()"
   ],
   "metadata": {
    "collapsed": false,
    "pycharm": {
     "name": "#%%\n"
    }
   }
  },
  {
   "cell_type": "code",
   "execution_count": 896,
   "outputs": [
    {
     "data": {
      "text/plain": "<matplotlib.collections.PathCollection at 0x15d22bf8>"
     },
     "execution_count": 896,
     "metadata": {},
     "output_type": "execute_result"
    },
    {
     "data": {
      "text/plain": "<Figure size 720x720 with 1 Axes>",
      "image/png": "[encoded data removed]"
     },
     "metadata": {
      "needs_background": "light"
     },
     "output_type": "display_data"
    }
   ],
   "source": [
    "#Before 10 cross validation\n",
    "import seaborn as sns\n",
    "plt.figure(figsize=(10,10))\n",
    "ax = sns.scatterplot(x = 'pca1', y = 'pca2', hue = 'cluster', data = pca_df, palette = ['red', 'blue', 'green','orange'])\n",
    "\n",
    "centers_on_PCs = pca.transform(km.cluster_centers_)\n",
    "plt.scatter(centers_on_PCs[:, 0], centers_on_PCs[:,1], s= 250, c = \"k\", marker=\"*\")"
   ],
   "metadata": {
    "collapsed": false,
    "pycharm": {
     "name": "#%%\n"
    }
   }
  },
  {
   "cell_type": "code",
   "execution_count": 897,
   "outputs": [
    {
     "name": "stdout",
     "output_type": "stream",
     "text": [
      "Percentage of positives\n"
     ]
    },
    {
     "ename": "KeyError",
     "evalue": "'y'",
     "output_type": "error",
     "traceback": [
      "\u001B[1;31m---------------------------------------------------------------------------\u001B[0m",
      "\u001B[1;31mKeyError\u001B[0m                                  Traceback (most recent call last)",
      "\u001B[1;32mc:\\users\\logan\\appdata\\local\\programs\\python\\python38-32\\lib\\site-packages\\pandas\\core\\indexes\\base.py\u001B[0m in \u001B[0;36mget_loc\u001B[1;34m(self, key, method, tolerance)\u001B[0m\n\u001B[0;32m   2894\u001B[0m             \u001B[1;32mtry\u001B[0m\u001B[1;33m:\u001B[0m\u001B[1;33m\u001B[0m\u001B[1;33m\u001B[0m\u001B[0m\n\u001B[1;32m-> 2895\u001B[1;33m                 \u001B[1;32mreturn\u001B[0m \u001B[0mself\u001B[0m\u001B[1;33m.\u001B[0m\u001B[0m_engine\u001B[0m\u001B[1;33m.\u001B[0m\u001B[0mget_loc\u001B[0m\u001B[1;33m(\u001B[0m\u001B[0mcasted_key\u001B[0m\u001B[1;33m)\u001B[0m\u001B[1;33m\u001B[0m\u001B[1;33m\u001B[0m\u001B[0m\n\u001B[0m\u001B[0;32m   2896\u001B[0m             \u001B[1;32mexcept\u001B[0m \u001B[0mKeyError\u001B[0m \u001B[1;32mas\u001B[0m \u001B[0merr\u001B[0m\u001B[1;33m:\u001B[0m\u001B[1;33m\u001B[0m\u001B[1;33m\u001B[0m\u001B[0m\n",
      "\u001B[1;32mpandas\\_libs\\index.pyx\u001B[0m in \u001B[0;36mpandas._libs.index.IndexEngine.get_loc\u001B[1;34m()\u001B[0m\n",
      "\u001B[1;32mpandas\\_libs\\index.pyx\u001B[0m in \u001B[0;36mpandas._libs.index.IndexEngine.get_loc\u001B[1;34m()\u001B[0m\n",
      "\u001B[1;32mpandas\\_libs\\hashtable_class_helper.pxi\u001B[0m in \u001B[0;36mpandas._libs.hashtable.PyObjectHashTable.get_item\u001B[1;34m()\u001B[0m\n",
      "\u001B[1;32mpandas\\_libs\\hashtable_class_helper.pxi\u001B[0m in \u001B[0;36mpandas._libs.hashtable.PyObjectHashTable.get_item\u001B[1;34m()\u001B[0m\n",
      "\u001B[1;31mKeyError\u001B[0m: 'y'",
      "\nThe above exception was the direct cause of the following exception:\n",
      "\u001B[1;31mKeyError\u001B[0m                                  Traceback (most recent call last)",
      "\u001B[1;32m<ipython-input-897-bc7bf6f86aba>\u001B[0m in \u001B[0;36m<module>\u001B[1;34m\u001B[0m\n\u001B[0;32m      1\u001B[0m \u001B[1;31m#10-fold validation\u001B[0m\u001B[1;33m\u001B[0m\u001B[1;33m\u001B[0m\u001B[1;33m\u001B[0m\u001B[0m\n\u001B[0;32m      2\u001B[0m \u001B[0mprint\u001B[0m\u001B[1;33m(\u001B[0m\u001B[1;34m\"Percentage of positives\"\u001B[0m\u001B[1;33m)\u001B[0m\u001B[1;33m\u001B[0m\u001B[1;33m\u001B[0m\u001B[0m\n\u001B[1;32m----> 3\u001B[1;33m \u001B[0msampled\u001B[0m\u001B[1;33m[\u001B[0m\u001B[1;34m'y'\u001B[0m\u001B[1;33m]\u001B[0m\u001B[1;33m.\u001B[0m\u001B[0mvalue_counts\u001B[0m\u001B[1;33m(\u001B[0m\u001B[1;33m)\u001B[0m\u001B[1;33m/\u001B[0m\u001B[0mlen\u001B[0m\u001B[1;33m(\u001B[0m\u001B[0msampled\u001B[0m\u001B[1;33m)\u001B[0m\u001B[1;33m\u001B[0m\u001B[1;33m\u001B[0m\u001B[0m\n\u001B[0m\u001B[0;32m      4\u001B[0m \u001B[1;33m\u001B[0m\u001B[0m\n",
      "\u001B[1;32mc:\\users\\logan\\appdata\\local\\programs\\python\\python38-32\\lib\\site-packages\\pandas\\core\\frame.py\u001B[0m in \u001B[0;36m__getitem__\u001B[1;34m(self, key)\u001B[0m\n\u001B[0;32m   2900\u001B[0m             \u001B[1;32mif\u001B[0m \u001B[0mself\u001B[0m\u001B[1;33m.\u001B[0m\u001B[0mcolumns\u001B[0m\u001B[1;33m.\u001B[0m\u001B[0mnlevels\u001B[0m \u001B[1;33m>\u001B[0m \u001B[1;36m1\u001B[0m\u001B[1;33m:\u001B[0m\u001B[1;33m\u001B[0m\u001B[1;33m\u001B[0m\u001B[0m\n\u001B[0;32m   2901\u001B[0m                 \u001B[1;32mreturn\u001B[0m \u001B[0mself\u001B[0m\u001B[1;33m.\u001B[0m\u001B[0m_getitem_multilevel\u001B[0m\u001B[1;33m(\u001B[0m\u001B[0mkey\u001B[0m\u001B[1;33m)\u001B[0m\u001B[1;33m\u001B[0m\u001B[1;33m\u001B[0m\u001B[0m\n\u001B[1;32m-> 2902\u001B[1;33m             \u001B[0mindexer\u001B[0m \u001B[1;33m=\u001B[0m \u001B[0mself\u001B[0m\u001B[1;33m.\u001B[0m\u001B[0mcolumns\u001B[0m\u001B[1;33m.\u001B[0m\u001B[0mget_loc\u001B[0m\u001B[1;33m(\u001B[0m\u001B[0mkey\u001B[0m\u001B[1;33m)\u001B[0m\u001B[1;33m\u001B[0m\u001B[1;33m\u001B[0m\u001B[0m\n\u001B[0m\u001B[0;32m   2903\u001B[0m             \u001B[1;32mif\u001B[0m \u001B[0mis_integer\u001B[0m\u001B[1;33m(\u001B[0m\u001B[0mindexer\u001B[0m\u001B[1;33m)\u001B[0m\u001B[1;33m:\u001B[0m\u001B[1;33m\u001B[0m\u001B[1;33m\u001B[0m\u001B[0m\n\u001B[0;32m   2904\u001B[0m                 \u001B[0mindexer\u001B[0m \u001B[1;33m=\u001B[0m \u001B[1;33m[\u001B[0m\u001B[0mindexer\u001B[0m\u001B[1;33m]\u001B[0m\u001B[1;33m\u001B[0m\u001B[1;33m\u001B[0m\u001B[0m\n",
      "\u001B[1;32mc:\\users\\logan\\appdata\\local\\programs\\python\\python38-32\\lib\\site-packages\\pandas\\core\\indexes\\base.py\u001B[0m in \u001B[0;36mget_loc\u001B[1;34m(self, key, method, tolerance)\u001B[0m\n\u001B[0;32m   2895\u001B[0m                 \u001B[1;32mreturn\u001B[0m \u001B[0mself\u001B[0m\u001B[1;33m.\u001B[0m\u001B[0m_engine\u001B[0m\u001B[1;33m.\u001B[0m\u001B[0mget_loc\u001B[0m\u001B[1;33m(\u001B[0m\u001B[0mcasted_key\u001B[0m\u001B[1;33m)\u001B[0m\u001B[1;33m\u001B[0m\u001B[1;33m\u001B[0m\u001B[0m\n\u001B[0;32m   2896\u001B[0m             \u001B[1;32mexcept\u001B[0m \u001B[0mKeyError\u001B[0m \u001B[1;32mas\u001B[0m \u001B[0merr\u001B[0m\u001B[1;33m:\u001B[0m\u001B[1;33m\u001B[0m\u001B[1;33m\u001B[0m\u001B[0m\n\u001B[1;32m-> 2897\u001B[1;33m                 \u001B[1;32mraise\u001B[0m \u001B[0mKeyError\u001B[0m\u001B[1;33m(\u001B[0m\u001B[0mkey\u001B[0m\u001B[1;33m)\u001B[0m \u001B[1;32mfrom\u001B[0m \u001B[0merr\u001B[0m\u001B[1;33m\u001B[0m\u001B[1;33m\u001B[0m\u001B[0m\n\u001B[0m\u001B[0;32m   2898\u001B[0m \u001B[1;33m\u001B[0m\u001B[0m\n\u001B[0;32m   2899\u001B[0m         \u001B[1;32mif\u001B[0m \u001B[0mtolerance\u001B[0m \u001B[1;32mis\u001B[0m \u001B[1;32mnot\u001B[0m \u001B[1;32mNone\u001B[0m\u001B[1;33m:\u001B[0m\u001B[1;33m\u001B[0m\u001B[1;33m\u001B[0m\u001B[0m\n",
      "\u001B[1;31mKeyError\u001B[0m: 'y'"
     ]
    }
   ],
   "source": [
    "#10-fold validation\n",
    "print(\"Percentage of positives\")\n",
    "sampled['y'].value_counts()/len(sampled)"
   ],
   "metadata": {
    "collapsed": false,
    "pycharm": {
     "name": "#%%\n"
    }
   }
  },
  {
   "cell_type": "code",
   "execution_count": null,
   "outputs": [],
   "source": [
    "#Set up data for train\n",
    "x = new_df\n",
    "y = np.array(sampled['y'])\n",
    "y = y.astype('int')"
   ],
   "metadata": {
    "collapsed": false,
    "pycharm": {
     "name": "#%%\n"
    }
   }
  },
  {
   "cell_type": "code",
   "execution_count": null,
   "outputs": [],
   "source": [
    "from sklearn.model_selection import cross_val_score, KFold, train_test_split\n",
    "from sklearn import svm\n",
    "\n",
    "clf = svm.SVC(kernel='linear', C=1)\n",
    "\n",
    "cv=KFold(n_splits=10, shuffle=True, random_state=1)\n",
    "\n",
    "predicted_score = cross_val_score(clf, x, y, cv=cv)\n"
   ],
   "metadata": {
    "collapsed": false,
    "pycharm": {
     "name": "#%%\n"
    }
   }
  },
  {
   "cell_type": "code",
   "execution_count": null,
   "outputs": [],
   "source": [
    "from numpy import mean, std\n",
    "print('Accuracy: %.3f ( +/- %.3f)' % (mean(predicted_score), std(predicted_score)))"
   ],
   "metadata": {
    "collapsed": false,
    "pycharm": {
     "name": "#%%\n"
    }
   }
  },
  {
   "cell_type": "code",
   "execution_count": null,
   "outputs": [],
   "source": [
    "from sklearn.model_selection import cross_val_predict\n",
    "\n",
    "\n",
    "\n",
    "predicted = cross_val_predict(clf, x, y, cv=cv)\n",
    "\n",
    "predicted"
   ],
   "metadata": {
    "collapsed": false,
    "pycharm": {
     "name": "#%%\n"
    }
   }
  }
 ],
 "metadata": {
  "kernelspec": {
   "display_name": "Python 3",
   "language": "python",
   "name": "python3"
  },
  "language_info": {
   "codemirror_mode": {
    "name": "ipython",
    "version": 2
   },
   "file_extension": ".py",
   "mimetype": "text/x-python",
   "name": "python",
   "nbconvert_exporter": "python",
   "pygments_lexer": "ipython2",
   "version": "2.7.6"
  }
 },
 "nbformat": 4,
 "nbformat_minor": 0
}