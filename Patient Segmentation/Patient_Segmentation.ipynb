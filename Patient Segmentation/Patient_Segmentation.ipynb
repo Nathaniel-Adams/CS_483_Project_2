{
 "cells": [
  {
   "cell_type": "code",
   "execution_count": 101,
   "metadata": {
    "collapsed": true
   },
   "outputs": [],
   "source": [
    "import matplotlib.pyplot as plt\n",
    "from sklearn.cluster import KMeans\n",
    "import pandas as pd\n",
    "import numpy as np\n",
    "import re\n",
    "import random"
   ]
  },
  {
   "cell_type": "code",
   "execution_count": 102,
   "outputs": [
    {
     "data": {
      "text/plain": "        ID  SUB_ID  Country  Province/State  Study Pop Size (N)  \\\n0      1.0     0.0        0               0               191.0   \n1      1.0     1.0        0               0                54.0   \n2      1.0     2.0        0               0               137.0   \n3      2.0     0.0        0               0               199.0   \n4      2.0     1.0        0               0                99.0   \n..     ...     ...      ...             ...                 ...   \n534  202.0     2.0        2              56                99.0   \n535  202.0     3.0        2              56               117.0   \n536  202.0     4.0        2              56               247.0   \n537  202.0     5.0        2              56                50.0   \n538   -1.0    -1.0       20              11                -1.0   \n\n     Proportion of values entered in row (%)  Paper Title  Journal  Author  \\\n0                                      60.11            0        0       0   \n1                                      60.11            0        0       0   \n2                                      60.11            0        0       0   \n3                                      44.94            1        1       1   \n4                                      44.94            1        1       1   \n..                                       ...          ...      ...     ...   \n534                                    23.60          175       40      88   \n535                                    23.03          175       40      88   \n536                                    25.84          175       40      88   \n537                                    25.28          175       40      88   \n538                                    -1.00          176       33     130   \n\n     Source  ...  Hypoproteinaemia  Acidosis  Hospital admission (%)  \\\n0         0  ...             11.52      8.90                     1.0   \n1         0  ...             37.04     29.63                     1.0   \n2         0  ...              1.46      0.73                     1.0   \n3         1  ...             -1.00     -1.00                     1.0   \n4         1  ...             -1.00     -1.00                     1.0   \n..      ...  ...               ...       ...                     ...   \n534     202  ...             -1.00     -1.00                     1.0   \n535     202  ...             -1.00     -1.00                     1.0   \n536     202  ...             -1.00     -1.00                     1.0   \n537     202  ...             -1.00     -1.00                     1.0   \n538      35  ...             -1.00     -1.00                    -1.0   \n\n     ICU admission  Discharged (%)  ICU length of stay, days  \\\n0             0.26               0                         0   \n1             0.72               1                         0   \n2             0.08               2                         1   \n3            -1.00               0                         2   \n4            -1.00               3                         3   \n..             ...             ...                       ...   \n534           0.32              71                         0   \n535           0.54              53                        13   \n536           0.39              47                         0   \n537           0.42              22                        13   \n538          -1.00               6                         5   \n\n     Hospital length of stay, days  Days to Viral Clearance (Median)  \\\n0                                0                              20.0   \n1                                1                               7.5   \n2                                2                              20.0   \n3                                3                              28.0   \n4                                4                              28.0   \n..                             ...                               ...   \n534                             28                              -1.0   \n535                             13                              -1.0   \n536                             28                              -1.0   \n537                             28                              -1.0   \n538                              7                              -1.0   \n\n     Mortality  \\\n0            0   \n1            1   \n2            2   \n3            3   \n4            4   \n..         ...   \n534         30   \n535         24   \n536          3   \n537         38   \n538         18   \n\n     Projected Mortality (accounting for patients not currently discharged)  \n0                                                    0                       \n1                                                    1                       \n2                                                    2                       \n3                                                    3                       \n4                                                    4                       \n..                                                 ...                       \n534                                                 42                       \n535                                                 57                       \n536                                                  4                       \n537                                                 25                       \n538                                                  7                       \n\n[539 rows x 162 columns]",
      "text/html": "<div>\n<style scoped>\n    .dataframe tbody tr th:only-of-type {\n        vertical-align: middle;\n    }\n\n    .dataframe tbody tr th {\n        vertical-align: top;\n    }\n\n    .dataframe thead th {\n        text-align: right;\n    }\n</style>\n<table border=\"1\" class=\"dataframe\">\n  <thead>\n    <tr style=\"text-align: right;\">\n      <th></th>\n      <th>ID</th>\n      <th>SUB_ID</th>\n      <th>Country</th>\n      <th>Province/State</th>\n      <th>Study Pop Size (N)</th>\n      <th>Proportion of values entered in row (%)</th>\n      <th>Paper Title</th>\n      <th>Journal</th>\n      <th>Author</th>\n      <th>Source</th>\n      <th>...</th>\n      <th>Hypoproteinaemia</th>\n      <th>Acidosis</th>\n      <th>Hospital admission (%)</th>\n      <th>ICU admission</th>\n      <th>Discharged (%)</th>\n      <th>ICU length of stay, days</th>\n      <th>Hospital length of stay, days</th>\n      <th>Days to Viral Clearance (Median)</th>\n      <th>Mortality</th>\n      <th>Projected Mortality (accounting for patients not currently discharged)</th>\n    </tr>\n  </thead>\n  <tbody>\n    <tr>\n      <th>0</th>\n      <td>1.0</td>\n      <td>0.0</td>\n      <td>0</td>\n      <td>0</td>\n      <td>191.0</td>\n      <td>60.11</td>\n      <td>0</td>\n      <td>0</td>\n      <td>0</td>\n      <td>0</td>\n      <td>...</td>\n      <td>11.52</td>\n      <td>8.90</td>\n      <td>1.0</td>\n      <td>0.26</td>\n      <td>0</td>\n      <td>0</td>\n      <td>0</td>\n      <td>20.0</td>\n      <td>0</td>\n      <td>0</td>\n    </tr>\n    <tr>\n      <th>1</th>\n      <td>1.0</td>\n      <td>1.0</td>\n      <td>0</td>\n      <td>0</td>\n      <td>54.0</td>\n      <td>60.11</td>\n      <td>0</td>\n      <td>0</td>\n      <td>0</td>\n      <td>0</td>\n      <td>...</td>\n      <td>37.04</td>\n      <td>29.63</td>\n      <td>1.0</td>\n      <td>0.72</td>\n      <td>1</td>\n      <td>0</td>\n      <td>1</td>\n      <td>7.5</td>\n      <td>1</td>\n      <td>1</td>\n    </tr>\n    <tr>\n      <th>2</th>\n      <td>1.0</td>\n      <td>2.0</td>\n      <td>0</td>\n      <td>0</td>\n      <td>137.0</td>\n      <td>60.11</td>\n      <td>0</td>\n      <td>0</td>\n      <td>0</td>\n      <td>0</td>\n      <td>...</td>\n      <td>1.46</td>\n      <td>0.73</td>\n      <td>1.0</td>\n      <td>0.08</td>\n      <td>2</td>\n      <td>1</td>\n      <td>2</td>\n      <td>20.0</td>\n      <td>2</td>\n      <td>2</td>\n    </tr>\n    <tr>\n      <th>3</th>\n      <td>2.0</td>\n      <td>0.0</td>\n      <td>0</td>\n      <td>0</td>\n      <td>199.0</td>\n      <td>44.94</td>\n      <td>1</td>\n      <td>1</td>\n      <td>1</td>\n      <td>1</td>\n      <td>...</td>\n      <td>-1.00</td>\n      <td>-1.00</td>\n      <td>1.0</td>\n      <td>-1.00</td>\n      <td>0</td>\n      <td>2</td>\n      <td>3</td>\n      <td>28.0</td>\n      <td>3</td>\n      <td>3</td>\n    </tr>\n    <tr>\n      <th>4</th>\n      <td>2.0</td>\n      <td>1.0</td>\n      <td>0</td>\n      <td>0</td>\n      <td>99.0</td>\n      <td>44.94</td>\n      <td>1</td>\n      <td>1</td>\n      <td>1</td>\n      <td>1</td>\n      <td>...</td>\n      <td>-1.00</td>\n      <td>-1.00</td>\n      <td>1.0</td>\n      <td>-1.00</td>\n      <td>3</td>\n      <td>3</td>\n      <td>4</td>\n      <td>28.0</td>\n      <td>4</td>\n      <td>4</td>\n    </tr>\n    <tr>\n      <th>...</th>\n      <td>...</td>\n      <td>...</td>\n      <td>...</td>\n      <td>...</td>\n      <td>...</td>\n      <td>...</td>\n      <td>...</td>\n      <td>...</td>\n      <td>...</td>\n      <td>...</td>\n      <td>...</td>\n      <td>...</td>\n      <td>...</td>\n      <td>...</td>\n      <td>...</td>\n      <td>...</td>\n      <td>...</td>\n      <td>...</td>\n      <td>...</td>\n      <td>...</td>\n      <td>...</td>\n    </tr>\n    <tr>\n      <th>534</th>\n      <td>202.0</td>\n      <td>2.0</td>\n      <td>2</td>\n      <td>56</td>\n      <td>99.0</td>\n      <td>23.60</td>\n      <td>175</td>\n      <td>40</td>\n      <td>88</td>\n      <td>202</td>\n      <td>...</td>\n      <td>-1.00</td>\n      <td>-1.00</td>\n      <td>1.0</td>\n      <td>0.32</td>\n      <td>71</td>\n      <td>0</td>\n      <td>28</td>\n      <td>-1.0</td>\n      <td>30</td>\n      <td>42</td>\n    </tr>\n    <tr>\n      <th>535</th>\n      <td>202.0</td>\n      <td>3.0</td>\n      <td>2</td>\n      <td>56</td>\n      <td>117.0</td>\n      <td>23.03</td>\n      <td>175</td>\n      <td>40</td>\n      <td>88</td>\n      <td>202</td>\n      <td>...</td>\n      <td>-1.00</td>\n      <td>-1.00</td>\n      <td>1.0</td>\n      <td>0.54</td>\n      <td>53</td>\n      <td>13</td>\n      <td>13</td>\n      <td>-1.0</td>\n      <td>24</td>\n      <td>57</td>\n    </tr>\n    <tr>\n      <th>536</th>\n      <td>202.0</td>\n      <td>4.0</td>\n      <td>2</td>\n      <td>56</td>\n      <td>247.0</td>\n      <td>25.84</td>\n      <td>175</td>\n      <td>40</td>\n      <td>88</td>\n      <td>202</td>\n      <td>...</td>\n      <td>-1.00</td>\n      <td>-1.00</td>\n      <td>1.0</td>\n      <td>0.39</td>\n      <td>47</td>\n      <td>0</td>\n      <td>28</td>\n      <td>-1.0</td>\n      <td>3</td>\n      <td>4</td>\n    </tr>\n    <tr>\n      <th>537</th>\n      <td>202.0</td>\n      <td>5.0</td>\n      <td>2</td>\n      <td>56</td>\n      <td>50.0</td>\n      <td>25.28</td>\n      <td>175</td>\n      <td>40</td>\n      <td>88</td>\n      <td>202</td>\n      <td>...</td>\n      <td>-1.00</td>\n      <td>-1.00</td>\n      <td>1.0</td>\n      <td>0.42</td>\n      <td>22</td>\n      <td>13</td>\n      <td>28</td>\n      <td>-1.0</td>\n      <td>38</td>\n      <td>25</td>\n    </tr>\n    <tr>\n      <th>538</th>\n      <td>-1.0</td>\n      <td>-1.0</td>\n      <td>20</td>\n      <td>11</td>\n      <td>-1.0</td>\n      <td>-1.00</td>\n      <td>176</td>\n      <td>33</td>\n      <td>130</td>\n      <td>35</td>\n      <td>...</td>\n      <td>-1.00</td>\n      <td>-1.00</td>\n      <td>-1.0</td>\n      <td>-1.00</td>\n      <td>6</td>\n      <td>5</td>\n      <td>7</td>\n      <td>-1.0</td>\n      <td>18</td>\n      <td>7</td>\n    </tr>\n  </tbody>\n</table>\n<p>539 rows × 162 columns</p>\n</div>"
     },
     "execution_count": 102,
     "metadata": {},
     "output_type": "execute_result"
    }
   ],
   "source": [
    "df = pd.read_csv(\"covid_analytics_clinical_data.csv\")\n",
    "for col in df.columns:\n",
    "    arr = df[col].to_numpy()\n",
    "    if isinstance(arr[df[col].first_valid_index()],str):\n",
    "        if re.search('.*%$', arr[df[col].first_valid_index()]):\n",
    "            df[col] = (df[col].str.strip('%').astype(float))\n",
    "        else:\n",
    "            df[col] = df[col].str.lower()\n",
    "            arr = df[col].to_numpy()\n",
    "            arr = pd.unique(arr)\n",
    "            classifier = np.array([i for i in range(len(arr))])\n",
    "            df[col]=df[col].replace(arr,classifier)\n",
    "df = df.fillna(-1)\n",
    "df"
   ],
   "metadata": {
    "collapsed": false,
    "pycharm": {
     "name": "#%%\n"
    }
   }
  },
  {
   "cell_type": "code",
   "execution_count": 102,
   "outputs": [],
   "source": [],
   "metadata": {
    "collapsed": false,
    "pycharm": {
     "name": "#%%\n"
    }
   }
  }
 ],
 "metadata": {
  "kernelspec": {
   "display_name": "Python 3",
   "language": "python",
   "name": "python3"
  },
  "language_info": {
   "codemirror_mode": {
    "name": "ipython",
    "version": 2
   },
   "file_extension": ".py",
   "mimetype": "text/x-python",
   "name": "python",
   "nbconvert_exporter": "python",
   "pygments_lexer": "ipython2",
   "version": "2.7.6"
  }
 },
 "nbformat": 4,
 "nbformat_minor": 0
}