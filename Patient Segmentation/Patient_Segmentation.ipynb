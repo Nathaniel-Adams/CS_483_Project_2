{
 "cells": [
  {
   "cell_type": "code",
   "execution_count": 54,
   "metadata": {
    "collapsed": true
   },
   "outputs": [],
   "source": [
    "import matplotlib.pyplot as plt\n",
    "from sklearn.cluster import KMeans\n",
    "import pandas as pd\n",
    "import numpy as np\n",
    "import random"
   ]
  },
  {
   "cell_type": "code",
   "execution_count": 55,
   "outputs": [
    {
     "data": {
      "text/plain": "    Country  population              Severity\n258     USA       167.0                   All\n259     USA       101.0                   All\n260     USA        50.0                   All\n320     USA        53.0                   All\n427     USA      4103.0                   All\n428     USA      2104.0             Mild only\n429     USA      1999.0                   All\n430     USA      1999.0                   All\n431     USA       650.0  Severe/Critical Only\n473     USA       147.0                   All\n474     USA       261.0                   All\n481     USA       393.0                   All\n482     USA       130.0  Severe/critical only\n483     USA       263.0                   All\n485     USA       368.0                   All\n486     USA        97.0                   All\n487     USA       113.0                   All\n488     USA       158.0                   All\n489     USA      5700.0                   All\n490     USA      2634.0                   All\n504     USA        57.0                   All\n506     USA       754.0                   All\n507     USA      3759.0                   NaN\n511     USA      3055.0                   All\n517     USA       217.0  Severe/Critical Only\n518     USA       129.0  Severe/Critical Only\n519     USA        52.0  Severe/Critical Only\n524     USA       257.0                   NaN\n528     USA       151.0                   NaN\n529     USA       618.0                   NaN\n530     USA       231.0                   NaN\n531     USA      1000.0                   NaN\n532     USA       305.0                   All\n533     USA        89.0                   All\n534     USA        99.0                   All\n535     USA       117.0                   All\n536     USA       247.0                   All\n537     USA        50.0                   All",
      "text/html": "<div>\n<style scoped>\n    .dataframe tbody tr th:only-of-type {\n        vertical-align: middle;\n    }\n\n    .dataframe tbody tr th {\n        vertical-align: top;\n    }\n\n    .dataframe thead th {\n        text-align: right;\n    }\n</style>\n<table border=\"1\" class=\"dataframe\">\n  <thead>\n    <tr style=\"text-align: right;\">\n      <th></th>\n      <th>Country</th>\n      <th>population</th>\n      <th>Severity</th>\n    </tr>\n  </thead>\n  <tbody>\n    <tr>\n      <th>258</th>\n      <td>USA</td>\n      <td>167.0</td>\n      <td>All</td>\n    </tr>\n    <tr>\n      <th>259</th>\n      <td>USA</td>\n      <td>101.0</td>\n      <td>All</td>\n    </tr>\n    <tr>\n      <th>260</th>\n      <td>USA</td>\n      <td>50.0</td>\n      <td>All</td>\n    </tr>\n    <tr>\n      <th>320</th>\n      <td>USA</td>\n      <td>53.0</td>\n      <td>All</td>\n    </tr>\n    <tr>\n      <th>427</th>\n      <td>USA</td>\n      <td>4103.0</td>\n      <td>All</td>\n    </tr>\n    <tr>\n      <th>428</th>\n      <td>USA</td>\n      <td>2104.0</td>\n      <td>Mild only</td>\n    </tr>\n    <tr>\n      <th>429</th>\n      <td>USA</td>\n      <td>1999.0</td>\n      <td>All</td>\n    </tr>\n    <tr>\n      <th>430</th>\n      <td>USA</td>\n      <td>1999.0</td>\n      <td>All</td>\n    </tr>\n    <tr>\n      <th>431</th>\n      <td>USA</td>\n      <td>650.0</td>\n      <td>Severe/Critical Only</td>\n    </tr>\n    <tr>\n      <th>473</th>\n      <td>USA</td>\n      <td>147.0</td>\n      <td>All</td>\n    </tr>\n    <tr>\n      <th>474</th>\n      <td>USA</td>\n      <td>261.0</td>\n      <td>All</td>\n    </tr>\n    <tr>\n      <th>481</th>\n      <td>USA</td>\n      <td>393.0</td>\n      <td>All</td>\n    </tr>\n    <tr>\n      <th>482</th>\n      <td>USA</td>\n      <td>130.0</td>\n      <td>Severe/critical only</td>\n    </tr>\n    <tr>\n      <th>483</th>\n      <td>USA</td>\n      <td>263.0</td>\n      <td>All</td>\n    </tr>\n    <tr>\n      <th>485</th>\n      <td>USA</td>\n      <td>368.0</td>\n      <td>All</td>\n    </tr>\n    <tr>\n      <th>486</th>\n      <td>USA</td>\n      <td>97.0</td>\n      <td>All</td>\n    </tr>\n    <tr>\n      <th>487</th>\n      <td>USA</td>\n      <td>113.0</td>\n      <td>All</td>\n    </tr>\n    <tr>\n      <th>488</th>\n      <td>USA</td>\n      <td>158.0</td>\n      <td>All</td>\n    </tr>\n    <tr>\n      <th>489</th>\n      <td>USA</td>\n      <td>5700.0</td>\n      <td>All</td>\n    </tr>\n    <tr>\n      <th>490</th>\n      <td>USA</td>\n      <td>2634.0</td>\n      <td>All</td>\n    </tr>\n    <tr>\n      <th>504</th>\n      <td>USA</td>\n      <td>57.0</td>\n      <td>All</td>\n    </tr>\n    <tr>\n      <th>506</th>\n      <td>USA</td>\n      <td>754.0</td>\n      <td>All</td>\n    </tr>\n    <tr>\n      <th>507</th>\n      <td>USA</td>\n      <td>3759.0</td>\n      <td>NaN</td>\n    </tr>\n    <tr>\n      <th>511</th>\n      <td>USA</td>\n      <td>3055.0</td>\n      <td>All</td>\n    </tr>\n    <tr>\n      <th>517</th>\n      <td>USA</td>\n      <td>217.0</td>\n      <td>Severe/Critical Only</td>\n    </tr>\n    <tr>\n      <th>518</th>\n      <td>USA</td>\n      <td>129.0</td>\n      <td>Severe/Critical Only</td>\n    </tr>\n    <tr>\n      <th>519</th>\n      <td>USA</td>\n      <td>52.0</td>\n      <td>Severe/Critical Only</td>\n    </tr>\n    <tr>\n      <th>524</th>\n      <td>USA</td>\n      <td>257.0</td>\n      <td>NaN</td>\n    </tr>\n    <tr>\n      <th>528</th>\n      <td>USA</td>\n      <td>151.0</td>\n      <td>NaN</td>\n    </tr>\n    <tr>\n      <th>529</th>\n      <td>USA</td>\n      <td>618.0</td>\n      <td>NaN</td>\n    </tr>\n    <tr>\n      <th>530</th>\n      <td>USA</td>\n      <td>231.0</td>\n      <td>NaN</td>\n    </tr>\n    <tr>\n      <th>531</th>\n      <td>USA</td>\n      <td>1000.0</td>\n      <td>NaN</td>\n    </tr>\n    <tr>\n      <th>532</th>\n      <td>USA</td>\n      <td>305.0</td>\n      <td>All</td>\n    </tr>\n    <tr>\n      <th>533</th>\n      <td>USA</td>\n      <td>89.0</td>\n      <td>All</td>\n    </tr>\n    <tr>\n      <th>534</th>\n      <td>USA</td>\n      <td>99.0</td>\n      <td>All</td>\n    </tr>\n    <tr>\n      <th>535</th>\n      <td>USA</td>\n      <td>117.0</td>\n      <td>All</td>\n    </tr>\n    <tr>\n      <th>536</th>\n      <td>USA</td>\n      <td>247.0</td>\n      <td>All</td>\n    </tr>\n    <tr>\n      <th>537</th>\n      <td>USA</td>\n      <td>50.0</td>\n      <td>All</td>\n    </tr>\n  </tbody>\n</table>\n</div>"
     },
     "execution_count": 55,
     "metadata": {},
     "output_type": "execute_result"
    }
   ],
   "source": [
    "df = pd.read_csv(\"covid_analytics_clinical_data.csv\")\n",
    "c_df = df[['Country','Study Pop Size (N)','Severity',]]\n",
    "c_df = c_df.rename(columns={'Study Pop Size (N)': 'population'})\n",
    "r_df = c_df.query('Country == \"USA\" & population >= 50')\n",
    "r_df"
   ],
   "metadata": {
    "collapsed": false,
    "pycharm": {
     "name": "#%%\n"
    }
   }
  }
 ],
 "metadata": {
  "kernelspec": {
   "display_name": "Python 3",
   "language": "python",
   "name": "python3"
  },
  "language_info": {
   "codemirror_mode": {
    "name": "ipython",
    "version": 2
   },
   "file_extension": ".py",
   "mimetype": "text/x-python",
   "name": "python",
   "nbconvert_exporter": "python",
   "pygments_lexer": "ipython2",
   "version": "2.7.6"
  }
 },
 "nbformat": 4,
 "nbformat_minor": 0
}