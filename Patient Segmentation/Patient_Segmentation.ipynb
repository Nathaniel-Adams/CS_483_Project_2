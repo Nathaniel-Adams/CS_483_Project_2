{
 "cells": [
  {
   "cell_type": "code",
   "execution_count": 246,
   "metadata": {
    "collapsed": true
   },
   "outputs": [],
   "source": [
    "import matplotlib.pyplot as plt\n",
    "from sklearn.cluster import KMeans\n",
    "import pandas as pd\n",
    "import numpy as np\n",
    "import re\n",
    "import random"
   ]
  },
  {
   "cell_type": "code",
   "execution_count": 247,
   "outputs": [
    {
     "data": {
      "text/plain": "        ID  SUB_ID  Country  Province/State  Study Pop Size (N)  \\\n0      1.0     0.0        0               0               191.0   \n1      1.0     1.0        0               0                54.0   \n2      1.0     2.0        0               0               137.0   \n3      2.0     0.0        0               0               199.0   \n4      2.0     1.0        0               0                99.0   \n..     ...     ...      ...             ...                 ...   \n534  202.0     2.0        2              56                99.0   \n535  202.0     3.0        2              56               117.0   \n536  202.0     4.0        2              56               247.0   \n537  202.0     5.0        2              56                50.0   \n538   -1.0    -1.0       20              11                -1.0   \n\n     Proportion of values entered in row (%)  Paper Title  Journal  Author  \\\n0                                      60.11            0        0       0   \n1                                      60.11            0        0       0   \n2                                      60.11            0        0       0   \n3                                      44.94            1        1       1   \n4                                      44.94            1        1       1   \n..                                       ...          ...      ...     ...   \n534                                    23.60          175       40      88   \n535                                    23.03          175       40      88   \n536                                    25.84          175       40      88   \n537                                    25.28          175       40      88   \n538                                    -1.00          176       33     130   \n\n     Source  ...  Hypoproteinaemia  Acidosis  Hospital admission (%)  \\\n0         0  ...             11.52      8.90                     1.0   \n1         0  ...             37.04     29.63                     1.0   \n2         0  ...              1.46      0.73                     1.0   \n3         1  ...             -1.00     -1.00                     1.0   \n4         1  ...             -1.00     -1.00                     1.0   \n..      ...  ...               ...       ...                     ...   \n534     202  ...             -1.00     -1.00                     1.0   \n535     202  ...             -1.00     -1.00                     1.0   \n536     202  ...             -1.00     -1.00                     1.0   \n537     202  ...             -1.00     -1.00                     1.0   \n538      35  ...             -1.00     -1.00                    -1.0   \n\n     ICU admission  Discharged (%)  ICU length of stay, days  \\\n0             0.26               0                         0   \n1             0.72               1                         0   \n2             0.08               2                         1   \n3            -1.00               0                         2   \n4            -1.00               3                         3   \n..             ...             ...                       ...   \n534           0.32              71                         0   \n535           0.54              53                        13   \n536           0.39              47                         0   \n537           0.42              22                        13   \n538          -1.00               6                         5   \n\n     Hospital length of stay, days  Days to Viral Clearance (Median)  \\\n0                                0                              20.0   \n1                                1                               7.5   \n2                                2                              20.0   \n3                                3                              28.0   \n4                                4                              28.0   \n..                             ...                               ...   \n534                             28                              -1.0   \n535                             13                              -1.0   \n536                             28                              -1.0   \n537                             28                              -1.0   \n538                              7                              -1.0   \n\n     Mortality  \\\n0            0   \n1            1   \n2            2   \n3            3   \n4            4   \n..         ...   \n534         30   \n535         24   \n536          3   \n537         38   \n538         18   \n\n     Projected Mortality (accounting for patients not currently discharged)  \n0                                                    0                       \n1                                                    1                       \n2                                                    2                       \n3                                                    3                       \n4                                                    4                       \n..                                                 ...                       \n534                                                 42                       \n535                                                 57                       \n536                                                  4                       \n537                                                 25                       \n538                                                  7                       \n\n[539 rows x 162 columns]",
      "text/html": "<div>\n<style scoped>\n    .dataframe tbody tr th:only-of-type {\n        vertical-align: middle;\n    }\n\n    .dataframe tbody tr th {\n        vertical-align: top;\n    }\n\n    .dataframe thead th {\n        text-align: right;\n    }\n</style>\n<table border=\"1\" class=\"dataframe\">\n  <thead>\n    <tr style=\"text-align: right;\">\n      <th></th>\n      <th>ID</th>\n      <th>SUB_ID</th>\n      <th>Country</th>\n      <th>Province/State</th>\n      <th>Study Pop Size (N)</th>\n      <th>Proportion of values entered in row (%)</th>\n      <th>Paper Title</th>\n      <th>Journal</th>\n      <th>Author</th>\n      <th>Source</th>\n      <th>...</th>\n      <th>Hypoproteinaemia</th>\n      <th>Acidosis</th>\n      <th>Hospital admission (%)</th>\n      <th>ICU admission</th>\n      <th>Discharged (%)</th>\n      <th>ICU length of stay, days</th>\n      <th>Hospital length of stay, days</th>\n      <th>Days to Viral Clearance (Median)</th>\n      <th>Mortality</th>\n      <th>Projected Mortality (accounting for patients not currently discharged)</th>\n    </tr>\n  </thead>\n  <tbody>\n    <tr>\n      <th>0</th>\n      <td>1.0</td>\n      <td>0.0</td>\n      <td>0</td>\n      <td>0</td>\n      <td>191.0</td>\n      <td>60.11</td>\n      <td>0</td>\n      <td>0</td>\n      <td>0</td>\n      <td>0</td>\n      <td>...</td>\n      <td>11.52</td>\n      <td>8.90</td>\n      <td>1.0</td>\n      <td>0.26</td>\n      <td>0</td>\n      <td>0</td>\n      <td>0</td>\n      <td>20.0</td>\n      <td>0</td>\n      <td>0</td>\n    </tr>\n    <tr>\n      <th>1</th>\n      <td>1.0</td>\n      <td>1.0</td>\n      <td>0</td>\n      <td>0</td>\n      <td>54.0</td>\n      <td>60.11</td>\n      <td>0</td>\n      <td>0</td>\n      <td>0</td>\n      <td>0</td>\n      <td>...</td>\n      <td>37.04</td>\n      <td>29.63</td>\n      <td>1.0</td>\n      <td>0.72</td>\n      <td>1</td>\n      <td>0</td>\n      <td>1</td>\n      <td>7.5</td>\n      <td>1</td>\n      <td>1</td>\n    </tr>\n    <tr>\n      <th>2</th>\n      <td>1.0</td>\n      <td>2.0</td>\n      <td>0</td>\n      <td>0</td>\n      <td>137.0</td>\n      <td>60.11</td>\n      <td>0</td>\n      <td>0</td>\n      <td>0</td>\n      <td>0</td>\n      <td>...</td>\n      <td>1.46</td>\n      <td>0.73</td>\n      <td>1.0</td>\n      <td>0.08</td>\n      <td>2</td>\n      <td>1</td>\n      <td>2</td>\n      <td>20.0</td>\n      <td>2</td>\n      <td>2</td>\n    </tr>\n    <tr>\n      <th>3</th>\n      <td>2.0</td>\n      <td>0.0</td>\n      <td>0</td>\n      <td>0</td>\n      <td>199.0</td>\n      <td>44.94</td>\n      <td>1</td>\n      <td>1</td>\n      <td>1</td>\n      <td>1</td>\n      <td>...</td>\n      <td>-1.00</td>\n      <td>-1.00</td>\n      <td>1.0</td>\n      <td>-1.00</td>\n      <td>0</td>\n      <td>2</td>\n      <td>3</td>\n      <td>28.0</td>\n      <td>3</td>\n      <td>3</td>\n    </tr>\n    <tr>\n      <th>4</th>\n      <td>2.0</td>\n      <td>1.0</td>\n      <td>0</td>\n      <td>0</td>\n      <td>99.0</td>\n      <td>44.94</td>\n      <td>1</td>\n      <td>1</td>\n      <td>1</td>\n      <td>1</td>\n      <td>...</td>\n      <td>-1.00</td>\n      <td>-1.00</td>\n      <td>1.0</td>\n      <td>-1.00</td>\n      <td>3</td>\n      <td>3</td>\n      <td>4</td>\n      <td>28.0</td>\n      <td>4</td>\n      <td>4</td>\n    </tr>\n    <tr>\n      <th>...</th>\n      <td>...</td>\n      <td>...</td>\n      <td>...</td>\n      <td>...</td>\n      <td>...</td>\n      <td>...</td>\n      <td>...</td>\n      <td>...</td>\n      <td>...</td>\n      <td>...</td>\n      <td>...</td>\n      <td>...</td>\n      <td>...</td>\n      <td>...</td>\n      <td>...</td>\n      <td>...</td>\n      <td>...</td>\n      <td>...</td>\n      <td>...</td>\n      <td>...</td>\n      <td>...</td>\n    </tr>\n    <tr>\n      <th>534</th>\n      <td>202.0</td>\n      <td>2.0</td>\n      <td>2</td>\n      <td>56</td>\n      <td>99.0</td>\n      <td>23.60</td>\n      <td>175</td>\n      <td>40</td>\n      <td>88</td>\n      <td>202</td>\n      <td>...</td>\n      <td>-1.00</td>\n      <td>-1.00</td>\n      <td>1.0</td>\n      <td>0.32</td>\n      <td>71</td>\n      <td>0</td>\n      <td>28</td>\n      <td>-1.0</td>\n      <td>30</td>\n      <td>42</td>\n    </tr>\n    <tr>\n      <th>535</th>\n      <td>202.0</td>\n      <td>3.0</td>\n      <td>2</td>\n      <td>56</td>\n      <td>117.0</td>\n      <td>23.03</td>\n      <td>175</td>\n      <td>40</td>\n      <td>88</td>\n      <td>202</td>\n      <td>...</td>\n      <td>-1.00</td>\n      <td>-1.00</td>\n      <td>1.0</td>\n      <td>0.54</td>\n      <td>53</td>\n      <td>13</td>\n      <td>13</td>\n      <td>-1.0</td>\n      <td>24</td>\n      <td>57</td>\n    </tr>\n    <tr>\n      <th>536</th>\n      <td>202.0</td>\n      <td>4.0</td>\n      <td>2</td>\n      <td>56</td>\n      <td>247.0</td>\n      <td>25.84</td>\n      <td>175</td>\n      <td>40</td>\n      <td>88</td>\n      <td>202</td>\n      <td>...</td>\n      <td>-1.00</td>\n      <td>-1.00</td>\n      <td>1.0</td>\n      <td>0.39</td>\n      <td>47</td>\n      <td>0</td>\n      <td>28</td>\n      <td>-1.0</td>\n      <td>3</td>\n      <td>4</td>\n    </tr>\n    <tr>\n      <th>537</th>\n      <td>202.0</td>\n      <td>5.0</td>\n      <td>2</td>\n      <td>56</td>\n      <td>50.0</td>\n      <td>25.28</td>\n      <td>175</td>\n      <td>40</td>\n      <td>88</td>\n      <td>202</td>\n      <td>...</td>\n      <td>-1.00</td>\n      <td>-1.00</td>\n      <td>1.0</td>\n      <td>0.42</td>\n      <td>22</td>\n      <td>13</td>\n      <td>28</td>\n      <td>-1.0</td>\n      <td>38</td>\n      <td>25</td>\n    </tr>\n    <tr>\n      <th>538</th>\n      <td>-1.0</td>\n      <td>-1.0</td>\n      <td>20</td>\n      <td>11</td>\n      <td>-1.0</td>\n      <td>-1.00</td>\n      <td>176</td>\n      <td>33</td>\n      <td>130</td>\n      <td>35</td>\n      <td>...</td>\n      <td>-1.00</td>\n      <td>-1.00</td>\n      <td>-1.0</td>\n      <td>-1.00</td>\n      <td>6</td>\n      <td>5</td>\n      <td>7</td>\n      <td>-1.0</td>\n      <td>18</td>\n      <td>7</td>\n    </tr>\n  </tbody>\n</table>\n<p>539 rows × 162 columns</p>\n</div>"
     },
     "execution_count": 247,
     "metadata": {},
     "output_type": "execute_result"
    }
   ],
   "source": [
    "df = pd.read_csv(\"covid_analytics_clinical_data.csv\")\n",
    "for col in df.columns:\n",
    "    arr = df[col].to_numpy()\n",
    "    if isinstance(arr[df[col].first_valid_index()],str):\n",
    "        if re.search('.*%$', arr[df[col].first_valid_index()]):\n",
    "            df[col] = (df[col].str.strip('%').astype(float))\n",
    "        else:\n",
    "            df[col] = df[col].str.lower()\n",
    "            arr = df[col].to_numpy()\n",
    "            arr = pd.unique(arr)\n",
    "            classifier = np.array([i for i in range(len(arr))])\n",
    "            df[col]=df[col].replace(arr,classifier)\n",
    "df = df.fillna(-1)\n",
    "df"
   ],
   "metadata": {
    "collapsed": false,
    "pycharm": {
     "name": "#%%\n"
    }
   }
  },
  {
   "cell_type": "code",
   "execution_count": 248,
   "outputs": [],
   "source": [
    "sampled = df.sample(125)"
   ],
   "metadata": {
    "collapsed": false,
    "pycharm": {
     "name": "#%%\n"
    }
   }
  },
  {
   "cell_type": "code",
   "execution_count": 249,
   "outputs": [
    {
     "name": "stdout",
     "output_type": "stream",
     "text": [
      "[0.00742079 0.01609382 0.00278231 0.007919   0.00943816 0.00887176\n",
      " 0.0080575  0.00750347 0.01011645 0.00902456 0.00337756 0.00034817\n",
      " 0.0093684  0.00064872 0.00751297 0.01107498 0.00794776 0.00754862\n",
      " 0.00795093 0.0002316  0.02277863 0.01413217 0.00787074 0.00457367\n",
      " 0.0057403  0.00809413 0.00971299 0.01140713 0.00974399 0.00624878\n",
      " 0.01900901 0.01040487 0.00272557 0.01462169 0.00374468 0.00197132\n",
      " 0.00620006 0.00233657 0.00423264 0.00313983 0.0038438  0.00498221\n",
      " 0.00113383 0.00066196 0.00133083 0.00247941 0.00532564 0.00405346\n",
      " 0.00363992 0.00361854 0.01025828 0.00120961 0.00429486 0.00724306\n",
      " 0.0176549  0.01124622 0.02021968 0.00924335 0.00872475 0.01268268\n",
      " 0.00737136 0.01023446 0.01075333 0.00961699 0.00775729 0.0041599\n",
      " 0.00149859 0.00328264 0.01432326 0.00510404 0.00365074 0.00606156\n",
      " 0.00600665 0.00527141 0.00202173 0.00512871 0.00479233 0.00421906\n",
      " 0.00481991 0.00284255 0.00345463 0.00076607 0.00671299 0.0261842\n",
      " 0.00307952 0.00638081 0.01313928 0.00508109 0.00681417 0.00517477\n",
      " 0.00722341 0.00683025 0.00665184 0.00054125 0.00039791 0.00393537\n",
      " 0.00400919 0.00301243 0.00597445 0.00567948 0.00285574 0.00780218\n",
      " 0.00316786 0.0028069  0.00045274 0.00867544 0.00738565 0.00496615\n",
      " 0.00394272 0.0035378  0.00265279 0.00313543 0.00517277 0.00321715\n",
      " 0.00688583 0.00069958 0.00147626 0.00671507 0.0067471  0.0053405\n",
      " 0.01091355 0.00544122 0.00455602 0.00599738 0.00450887 0.0012263\n",
      " 0.00421662 0.00339514 0.00416506 0.00504689 0.00363234 0.00831738\n",
      " 0.00576717 0.00903129 0.00691102 0.00757207 0.0029426  0.00460989\n",
      " 0.00319227 0.0025239  0.00183083 0.00230184 0.00036729 0.00675886\n",
      " 0.00021317 0.00214747 0.00276405 0.00157254 0.00122901 0.00370211\n",
      " 0.00714029 0.00244454 0.00122599 0.         0.00438625 0.00901112\n",
      " 0.02767923 0.00339378 0.01133035 0.00582283 0.02734291]\n"
     ]
    },
    {
     "data": {
      "text/plain": "<Figure size 432x288 with 1 Axes>",
      "image/png": "[encoded data removed]"
     },
     "metadata": {
      "needs_background": "light"
     },
     "output_type": "display_data"
    }
   ],
   "source": [
    "\n",
    "x = sampled.iloc[:, 0:161]\n",
    "y = sampled.iloc[:, -1]\n",
    "y = y.astype('int')\n",
    "\n",
    "from sklearn.ensemble import ExtraTreesClassifier\n",
    "model = ExtraTreesClassifier()\n",
    "model.fit(x, y)\n",
    "print(model.feature_importances_)\n",
    "feat_importances = pd.Series(model.feature_importances_, index=x.columns)\n",
    "feat_importances.nlargest(10).plot(kind='barh')\n",
    "plt.show()"
   ],
   "metadata": {
    "collapsed": false,
    "pycharm": {
     "name": "#%%\n"
    }
   }
  },
  {
   "cell_type": "code",
   "execution_count": 250,
   "outputs": [
    {
     "data": {
      "text/plain": "array([], shape=(125, 0), dtype=float64)"
     },
     "execution_count": 250,
     "metadata": {},
     "output_type": "execute_result"
    }
   ],
   "source": [
    "new_df = np.array(sampled[[]])\n",
    "new_df"
   ],
   "metadata": {
    "collapsed": false,
    "pycharm": {
     "name": "#%%\n"
    }
   }
  },
  {
   "cell_type": "code",
   "execution_count": 251,
   "outputs": [
    {
     "ename": "ValueError",
     "evalue": "Found array with 0 feature(s) (shape=(125, 0)) while a minimum of 1 is required.",
     "output_type": "error",
     "traceback": [
      "\u001B[1;31m---------------------------------------------------------------------------\u001B[0m",
      "\u001B[1;31mValueError\u001B[0m                                Traceback (most recent call last)",
      "\u001B[1;32m<ipython-input-251-9c58c280a242>\u001B[0m in \u001B[0;36m<module>\u001B[1;34m\u001B[0m\n\u001B[0;32m      2\u001B[0m \u001B[1;32mfor\u001B[0m \u001B[0mi\u001B[0m \u001B[1;32min\u001B[0m \u001B[0mrange\u001B[0m\u001B[1;33m(\u001B[0m\u001B[1;36m1\u001B[0m\u001B[1;33m,\u001B[0m \u001B[1;36m11\u001B[0m\u001B[1;33m)\u001B[0m\u001B[1;33m:\u001B[0m\u001B[1;33m\u001B[0m\u001B[1;33m\u001B[0m\u001B[0m\n\u001B[0;32m      3\u001B[0m     \u001B[0mkm\u001B[0m \u001B[1;33m=\u001B[0m \u001B[0mKMeans\u001B[0m\u001B[1;33m(\u001B[0m\u001B[0mn_clusters\u001B[0m\u001B[1;33m=\u001B[0m\u001B[0mi\u001B[0m\u001B[1;33m)\u001B[0m\u001B[1;33m\u001B[0m\u001B[1;33m\u001B[0m\u001B[0m\n\u001B[1;32m----> 4\u001B[1;33m     \u001B[0mkm\u001B[0m\u001B[1;33m.\u001B[0m\u001B[0mfit\u001B[0m\u001B[1;33m(\u001B[0m\u001B[0mnew_df\u001B[0m\u001B[1;33m)\u001B[0m\u001B[1;33m\u001B[0m\u001B[1;33m\u001B[0m\u001B[0m\n\u001B[0m\u001B[0;32m      5\u001B[0m     \u001B[0mdistortions\u001B[0m\u001B[1;33m.\u001B[0m\u001B[0mappend\u001B[0m\u001B[1;33m(\u001B[0m\u001B[0mkm\u001B[0m\u001B[1;33m.\u001B[0m\u001B[0minertia_\u001B[0m\u001B[1;33m)\u001B[0m\u001B[1;33m\u001B[0m\u001B[1;33m\u001B[0m\u001B[0m\n\u001B[0;32m      6\u001B[0m \u001B[0mplt\u001B[0m\u001B[1;33m.\u001B[0m\u001B[0mplot\u001B[0m\u001B[1;33m(\u001B[0m\u001B[0mrange\u001B[0m\u001B[1;33m(\u001B[0m\u001B[1;36m1\u001B[0m\u001B[1;33m,\u001B[0m \u001B[1;36m11\u001B[0m\u001B[1;33m)\u001B[0m\u001B[1;33m,\u001B[0m \u001B[0mdistortions\u001B[0m\u001B[1;33m,\u001B[0m \u001B[1;34m'bx-'\u001B[0m\u001B[1;33m)\u001B[0m\u001B[1;33m\u001B[0m\u001B[1;33m\u001B[0m\u001B[0m\n",
      "\u001B[1;32mc:\\users\\logan\\appdata\\local\\programs\\python\\python38-32\\lib\\site-packages\\sklearn\\cluster\\_kmeans.py\u001B[0m in \u001B[0;36mfit\u001B[1;34m(self, X, y, sample_weight)\u001B[0m\n\u001B[0;32m   1028\u001B[0m             \u001B[0mFitted\u001B[0m \u001B[0mestimator\u001B[0m\u001B[1;33m.\u001B[0m\u001B[1;33m\u001B[0m\u001B[1;33m\u001B[0m\u001B[0m\n\u001B[0;32m   1029\u001B[0m         \"\"\"\n\u001B[1;32m-> 1030\u001B[1;33m         X = self._validate_data(X, accept_sparse='csr',\n\u001B[0m\u001B[0;32m   1031\u001B[0m                                 \u001B[0mdtype\u001B[0m\u001B[1;33m=\u001B[0m\u001B[1;33m[\u001B[0m\u001B[0mnp\u001B[0m\u001B[1;33m.\u001B[0m\u001B[0mfloat64\u001B[0m\u001B[1;33m,\u001B[0m \u001B[0mnp\u001B[0m\u001B[1;33m.\u001B[0m\u001B[0mfloat32\u001B[0m\u001B[1;33m]\u001B[0m\u001B[1;33m,\u001B[0m\u001B[1;33m\u001B[0m\u001B[1;33m\u001B[0m\u001B[0m\n\u001B[0;32m   1032\u001B[0m                                 \u001B[0morder\u001B[0m\u001B[1;33m=\u001B[0m\u001B[1;34m'C'\u001B[0m\u001B[1;33m,\u001B[0m \u001B[0mcopy\u001B[0m\u001B[1;33m=\u001B[0m\u001B[0mself\u001B[0m\u001B[1;33m.\u001B[0m\u001B[0mcopy_x\u001B[0m\u001B[1;33m,\u001B[0m\u001B[1;33m\u001B[0m\u001B[1;33m\u001B[0m\u001B[0m\n",
      "\u001B[1;32mc:\\users\\logan\\appdata\\local\\programs\\python\\python38-32\\lib\\site-packages\\sklearn\\base.py\u001B[0m in \u001B[0;36m_validate_data\u001B[1;34m(self, X, y, reset, validate_separately, **check_params)\u001B[0m\n\u001B[0;32m    418\u001B[0m                     \u001B[1;34mf\"requires y to be passed, but the target y is None.\"\u001B[0m\u001B[1;33m\u001B[0m\u001B[1;33m\u001B[0m\u001B[0m\n\u001B[0;32m    419\u001B[0m                 )\n\u001B[1;32m--> 420\u001B[1;33m             \u001B[0mX\u001B[0m \u001B[1;33m=\u001B[0m \u001B[0mcheck_array\u001B[0m\u001B[1;33m(\u001B[0m\u001B[0mX\u001B[0m\u001B[1;33m,\u001B[0m \u001B[1;33m**\u001B[0m\u001B[0mcheck_params\u001B[0m\u001B[1;33m)\u001B[0m\u001B[1;33m\u001B[0m\u001B[1;33m\u001B[0m\u001B[0m\n\u001B[0m\u001B[0;32m    421\u001B[0m             \u001B[0mout\u001B[0m \u001B[1;33m=\u001B[0m \u001B[0mX\u001B[0m\u001B[1;33m\u001B[0m\u001B[1;33m\u001B[0m\u001B[0m\n\u001B[0;32m    422\u001B[0m         \u001B[1;32melse\u001B[0m\u001B[1;33m:\u001B[0m\u001B[1;33m\u001B[0m\u001B[1;33m\u001B[0m\u001B[0m\n",
      "\u001B[1;32mc:\\users\\logan\\appdata\\local\\programs\\python\\python38-32\\lib\\site-packages\\sklearn\\utils\\validation.py\u001B[0m in \u001B[0;36minner_f\u001B[1;34m(*args, **kwargs)\u001B[0m\n\u001B[0;32m     70\u001B[0m                           FutureWarning)\n\u001B[0;32m     71\u001B[0m         \u001B[0mkwargs\u001B[0m\u001B[1;33m.\u001B[0m\u001B[0mupdate\u001B[0m\u001B[1;33m(\u001B[0m\u001B[1;33m{\u001B[0m\u001B[0mk\u001B[0m\u001B[1;33m:\u001B[0m \u001B[0marg\u001B[0m \u001B[1;32mfor\u001B[0m \u001B[0mk\u001B[0m\u001B[1;33m,\u001B[0m \u001B[0marg\u001B[0m \u001B[1;32min\u001B[0m \u001B[0mzip\u001B[0m\u001B[1;33m(\u001B[0m\u001B[0msig\u001B[0m\u001B[1;33m.\u001B[0m\u001B[0mparameters\u001B[0m\u001B[1;33m,\u001B[0m \u001B[0margs\u001B[0m\u001B[1;33m)\u001B[0m\u001B[1;33m}\u001B[0m\u001B[1;33m)\u001B[0m\u001B[1;33m\u001B[0m\u001B[1;33m\u001B[0m\u001B[0m\n\u001B[1;32m---> 72\u001B[1;33m         \u001B[1;32mreturn\u001B[0m \u001B[0mf\u001B[0m\u001B[1;33m(\u001B[0m\u001B[1;33m**\u001B[0m\u001B[0mkwargs\u001B[0m\u001B[1;33m)\u001B[0m\u001B[1;33m\u001B[0m\u001B[1;33m\u001B[0m\u001B[0m\n\u001B[0m\u001B[0;32m     73\u001B[0m     \u001B[1;32mreturn\u001B[0m \u001B[0minner_f\u001B[0m\u001B[1;33m\u001B[0m\u001B[1;33m\u001B[0m\u001B[0m\n\u001B[0;32m     74\u001B[0m \u001B[1;33m\u001B[0m\u001B[0m\n",
      "\u001B[1;32mc:\\users\\logan\\appdata\\local\\programs\\python\\python38-32\\lib\\site-packages\\sklearn\\utils\\validation.py\u001B[0m in \u001B[0;36mcheck_array\u001B[1;34m(array, accept_sparse, accept_large_sparse, dtype, order, copy, force_all_finite, ensure_2d, allow_nd, ensure_min_samples, ensure_min_features, estimator)\u001B[0m\n\u001B[0;32m    656\u001B[0m         \u001B[0mn_features\u001B[0m \u001B[1;33m=\u001B[0m \u001B[0marray\u001B[0m\u001B[1;33m.\u001B[0m\u001B[0mshape\u001B[0m\u001B[1;33m[\u001B[0m\u001B[1;36m1\u001B[0m\u001B[1;33m]\u001B[0m\u001B[1;33m\u001B[0m\u001B[1;33m\u001B[0m\u001B[0m\n\u001B[0;32m    657\u001B[0m         \u001B[1;32mif\u001B[0m \u001B[0mn_features\u001B[0m \u001B[1;33m<\u001B[0m \u001B[0mensure_min_features\u001B[0m\u001B[1;33m:\u001B[0m\u001B[1;33m\u001B[0m\u001B[1;33m\u001B[0m\u001B[0m\n\u001B[1;32m--> 658\u001B[1;33m             raise ValueError(\"Found array with %d feature(s) (shape=%s) while\"\n\u001B[0m\u001B[0;32m    659\u001B[0m                              \u001B[1;34m\" a minimum of %d is required%s.\"\u001B[0m\u001B[1;33m\u001B[0m\u001B[1;33m\u001B[0m\u001B[0m\n\u001B[0;32m    660\u001B[0m                              % (n_features, array.shape, ensure_min_features,\n",
      "\u001B[1;31mValueError\u001B[0m: Found array with 0 feature(s) (shape=(125, 0)) while a minimum of 1 is required."
     ]
    }
   ],
   "source": [
    "distortions = []\n",
    "for i in range(1, 11):\n",
    "    km = KMeans(n_clusters=i)\n",
    "    km.fit(new_df)\n",
    "    distortions.append(km.inertia_)\n",
    "plt.plot(range(1, 11), distortions, 'bx-')\n",
    "plt.xlabel('Number of clusters')\n",
    "plt.ylabel('Distortion')\n",
    "plt.tight_layout()\n",
    "\n",
    "plt.show()"
   ],
   "metadata": {
    "collapsed": false,
    "pycharm": {
     "name": "#%%\n"
    }
   }
  }
 ],
 "metadata": {
  "kernelspec": {
   "display_name": "Python 3",
   "language": "python",
   "name": "python3"
  },
  "language_info": {
   "codemirror_mode": {
    "name": "ipython",
    "version": 2
   },
   "file_extension": ".py",
   "mimetype": "text/x-python",
   "name": "python",
   "nbconvert_exporter": "python",
   "pygments_lexer": "ipython2",
   "version": "2.7.6"
  }
 },
 "nbformat": 4,
 "nbformat_minor": 0
}