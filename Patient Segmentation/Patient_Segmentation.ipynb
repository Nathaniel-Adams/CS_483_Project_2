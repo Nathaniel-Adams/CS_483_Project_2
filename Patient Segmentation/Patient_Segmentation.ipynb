{
 "cells": [
  {
   "cell_type": "code",
   "execution_count": 15,
   "metadata": {
    "collapsed": true
   },
   "outputs": [],
   "source": [
    "import matplotlib.pyplot as plt\n",
    "from sklearn.cluster import KMeans\n",
    "import pandas as pd\n",
    "import numpy as np\n",
    "import random"
   ]
  },
  {
   "cell_type": "code",
   "execution_count": 16,
   "outputs": [
    {
     "data": {
      "text/plain": "    Country  population Severity\n0     China       191.0        1\n1     China        54.0        3\n2     China       137.0        1\n3     China       199.0        1\n4     China        99.0        1\n..      ...         ...      ...\n533     USA        89.0        1\n534     USA        99.0        1\n535     USA       117.0        1\n536     USA       247.0        1\n537     USA        50.0        1\n\n[229 rows x 3 columns]",
      "text/html": "<div>\n<style scoped>\n    .dataframe tbody tr th:only-of-type {\n        vertical-align: middle;\n    }\n\n    .dataframe tbody tr th {\n        vertical-align: top;\n    }\n\n    .dataframe thead th {\n        text-align: right;\n    }\n</style>\n<table border=\"1\" class=\"dataframe\">\n  <thead>\n    <tr style=\"text-align: right;\">\n      <th></th>\n      <th>Country</th>\n      <th>population</th>\n      <th>Severity</th>\n    </tr>\n  </thead>\n  <tbody>\n    <tr>\n      <th>0</th>\n      <td>China</td>\n      <td>191.0</td>\n      <td>1</td>\n    </tr>\n    <tr>\n      <th>1</th>\n      <td>China</td>\n      <td>54.0</td>\n      <td>3</td>\n    </tr>\n    <tr>\n      <th>2</th>\n      <td>China</td>\n      <td>137.0</td>\n      <td>1</td>\n    </tr>\n    <tr>\n      <th>3</th>\n      <td>China</td>\n      <td>199.0</td>\n      <td>1</td>\n    </tr>\n    <tr>\n      <th>4</th>\n      <td>China</td>\n      <td>99.0</td>\n      <td>1</td>\n    </tr>\n    <tr>\n      <th>...</th>\n      <td>...</td>\n      <td>...</td>\n      <td>...</td>\n    </tr>\n    <tr>\n      <th>533</th>\n      <td>USA</td>\n      <td>89.0</td>\n      <td>1</td>\n    </tr>\n    <tr>\n      <th>534</th>\n      <td>USA</td>\n      <td>99.0</td>\n      <td>1</td>\n    </tr>\n    <tr>\n      <th>535</th>\n      <td>USA</td>\n      <td>117.0</td>\n      <td>1</td>\n    </tr>\n    <tr>\n      <th>536</th>\n      <td>USA</td>\n      <td>247.0</td>\n      <td>1</td>\n    </tr>\n    <tr>\n      <th>537</th>\n      <td>USA</td>\n      <td>50.0</td>\n      <td>1</td>\n    </tr>\n  </tbody>\n</table>\n<p>229 rows × 3 columns</p>\n</div>"
     },
     "execution_count": 16,
     "metadata": {},
     "output_type": "execute_result"
    }
   ],
   "source": [
    "df = pd.read_csv(\"covid_analytics_clinical_data.csv\")\n",
    "c_df = df[['Country','Study Pop Size (N)','Severity','Survivors']]\n",
    "c_df = c_df.rename(columns={'Study Pop Size (N)': 'population'})\n",
    "c_df[\"Severity\"]=c_df[\"Severity\"].replace(\"All\",1)\n",
    "c_df[\"Severity\"]=c_df[\"Severity\"].replace(\"Severe/Critical Only\", 3)\n",
    "c_df[\"Severity\"]=c_df[\"Severity\"].replace(\"Mild only\",2)\n",
    "r_df = c_df.query('population >= 50')\n",
    "r_df"
   ],
   "metadata": {
    "collapsed": false,
    "pycharm": {
     "name": "#%%\n"
    }
   }
  }
 ],
 "metadata": {
  "kernelspec": {
   "display_name": "Python 3",
   "language": "python",
   "name": "python3"
  },
  "language_info": {
   "codemirror_mode": {
    "name": "ipython",
    "version": 2
   },
   "file_extension": ".py",
   "mimetype": "text/x-python",
   "name": "python",
   "nbconvert_exporter": "python",
   "pygments_lexer": "ipython2",
   "version": "2.7.6"
  }
 },
 "nbformat": 4,
 "nbformat_minor": 0
}