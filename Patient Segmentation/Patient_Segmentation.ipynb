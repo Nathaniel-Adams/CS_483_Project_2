{
 "cells": [
  {
   "cell_type": "code",
   "execution_count": 98,
   "metadata": {
    "collapsed": true
   },
   "outputs": [],
   "source": [
    "import matplotlib.pyplot as plt\n",
    "from sklearn.cluster import KMeans\n",
    "import pandas as pd\n",
    "import numpy as np\n",
    "import random"
   ]
  },
  {
   "cell_type": "code",
   "execution_count": 99,
   "outputs": [
    {
     "name": "stderr",
     "output_type": "stream",
     "text": [
      "<ipython-input-99-f0615310937a>:5: SettingWithCopyWarning: \n",
      "A value is trying to be set on a copy of a slice from a DataFrame.\n",
      "Try using .loc[row_indexer,col_indexer] = value instead\n",
      "\n",
      "See the caveats in the documentation: https://pandas.pydata.org/pandas-docs/stable/user_guide/indexing.html#returning-a-view-versus-a-copy\n",
      "  c_df[\"Severity\"]=c_df[\"Severity\"].replace(arr,[1,3,2,-1,1,2,3,2,3,4])\n",
      "<ipython-input-99-f0615310937a>:8: SettingWithCopyWarning: \n",
      "A value is trying to be set on a copy of a slice from a DataFrame.\n",
      "Try using .loc[row_indexer,col_indexer] = value instead\n",
      "\n",
      "See the caveats in the documentation: https://pandas.pydata.org/pandas-docs/stable/user_guide/indexing.html#returning-a-view-versus-a-copy\n",
      "  c_df[\"Survivors\"]=c_df[\"Survivors\"].replace(arr,[0,1,2,-1])\n"
     ]
    },
    {
     "data": {
      "text/plain": "array(['China', 'Italy', 'USA', 'Singapore', 'China and outside China',\n       'Japan (Diamond Princess)', 'South Korea', 'Chile', 'Scotland',\n       'UK', 'Australia', 'Netherlands', 'United Kingdom', 'France',\n       'Germany', 'Japan', 'Korea', 'Europe/North America', 'Iceland',\n       'Mexico', nan], dtype=object)"
     },
     "execution_count": 99,
     "metadata": {},
     "output_type": "execute_result"
    }
   ],
   "source": [
    "df = pd.read_csv(\"covid_analytics_clinical_data.csv\")\n",
    "c_df = df[['Country','Study Pop Size (N)','Severity','Survivors']]\n",
    "arr = c_df['Severity'].to_numpy()\n",
    "arr = pd.unique(arr)\n",
    "c_df[\"Severity\"]=c_df[\"Severity\"].replace(arr,[1,3,2,-1,1,2,3,2,3,4])\n",
    "arr = c_df['Survivors'].to_numpy()\n",
    "arr = pd.unique(arr)\n",
    "c_df[\"Survivors\"]=c_df[\"Survivors\"].replace(arr,[0,1,2,-1])\n",
    "arr = c_df['Country'].to_numpy()\n",
    "arr = pd.unique(arr)\n",
    "c_df[\"Country\"]=c_df[\"Country\"].replace(arr,['1', '2', '3', '4', '5',\n",
    "       '6', '7', '8', '9',\n",
    "       '10', '11', '12', '13', '14',\n",
    "       '15', '16', '17', '18', '19',\n",
    "       '20', -1])\n",
    "c_df"
   ],
   "metadata": {
    "collapsed": false,
    "pycharm": {
     "name": "#%%\n"
    }
   }
  }
 ],
 "metadata": {
  "kernelspec": {
   "display_name": "Python 3",
   "language": "python",
   "name": "python3"
  },
  "language_info": {
   "codemirror_mode": {
    "name": "ipython",
    "version": 2
   },
   "file_extension": ".py",
   "mimetype": "text/x-python",
   "name": "python",
   "nbconvert_exporter": "python",
   "pygments_lexer": "ipython2",
   "version": "2.7.6"
  }
 },
 "nbformat": 4,
 "nbformat_minor": 0
}