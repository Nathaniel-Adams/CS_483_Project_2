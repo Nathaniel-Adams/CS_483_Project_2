{
 "cells": [
  {
   "cell_type": "code",
   "execution_count": 14,
   "metadata": {
    "collapsed": true
   },
   "outputs": [],
   "source": [
    "import matplotlib.pyplot as plt\n",
    "from sklearn.cluster import KMeans\n",
    "import pandas as pd\n",
    "import numpy as np\n",
    "import re\n",
    "import random"
   ]
  },
  {
   "cell_type": "code",
   "execution_count": 15,
   "outputs": [
    {
     "data": {
      "text/plain": "        ID  SUB_ID  Country  Province/State  Study Pop Size (N)  \\\n0      1.0     0.0        0               0               191.0   \n1      1.0     1.0        0               0                54.0   \n2      1.0     2.0        0               0               137.0   \n3      2.0     0.0        0               0               199.0   \n4      2.0     1.0        0               0                99.0   \n..     ...     ...      ...             ...                 ...   \n534  202.0     2.0        2              56                99.0   \n535  202.0     3.0        2              56               117.0   \n536  202.0     4.0        2              56               247.0   \n537  202.0     5.0        2              56                50.0   \n538   -1.0    -1.0       20              11                -1.0   \n\n     Proportion of values entered in row (%)  Paper Title  Journal  Author  \\\n0                                      60.11            0        0       0   \n1                                      60.11            0        0       0   \n2                                      60.11            0        0       0   \n3                                      44.94            1        1       1   \n4                                      44.94            1        1       1   \n..                                       ...          ...      ...     ...   \n534                                    23.60          175       40      88   \n535                                    23.03          175       40      88   \n536                                    25.84          175       40      88   \n537                                    25.28          175       40      88   \n538                                    -1.00          176       33     130   \n\n     Source  ...  Hypoproteinaemia  Acidosis  Hospital admission (%)  \\\n0         0  ...             11.52      8.90                     1.0   \n1         0  ...             37.04     29.63                     1.0   \n2         0  ...              1.46      0.73                     1.0   \n3         1  ...             -1.00     -1.00                     1.0   \n4         1  ...             -1.00     -1.00                     1.0   \n..      ...  ...               ...       ...                     ...   \n534     202  ...             -1.00     -1.00                     1.0   \n535     202  ...             -1.00     -1.00                     1.0   \n536     202  ...             -1.00     -1.00                     1.0   \n537     202  ...             -1.00     -1.00                     1.0   \n538      35  ...             -1.00     -1.00                    -1.0   \n\n     ICU admission  Discharged (%)  ICU length of stay, days  \\\n0             0.26               0                         0   \n1             0.72               1                         0   \n2             0.08               2                         1   \n3            -1.00               0                         2   \n4            -1.00               3                         3   \n..             ...             ...                       ...   \n534           0.32              71                         0   \n535           0.54              53                        13   \n536           0.39              47                         0   \n537           0.42              22                        13   \n538          -1.00               6                         5   \n\n     Hospital length of stay, days  Days to Viral Clearance (Median)  \\\n0                                0                              20.0   \n1                                1                               7.5   \n2                                2                              20.0   \n3                                3                              28.0   \n4                                4                              28.0   \n..                             ...                               ...   \n534                             28                              -1.0   \n535                             13                              -1.0   \n536                             28                              -1.0   \n537                             28                              -1.0   \n538                              7                              -1.0   \n\n     Mortality  \\\n0            0   \n1            1   \n2            2   \n3            3   \n4            4   \n..         ...   \n534         30   \n535         24   \n536          3   \n537         38   \n538         18   \n\n     Projected Mortality (accounting for patients not currently discharged)  \n0                                                    0                       \n1                                                    1                       \n2                                                    2                       \n3                                                    3                       \n4                                                    4                       \n..                                                 ...                       \n534                                                 42                       \n535                                                 57                       \n536                                                  4                       \n537                                                 25                       \n538                                                  7                       \n\n[539 rows x 162 columns]",
      "text/html": "<div>\n<style scoped>\n    .dataframe tbody tr th:only-of-type {\n        vertical-align: middle;\n    }\n\n    .dataframe tbody tr th {\n        vertical-align: top;\n    }\n\n    .dataframe thead th {\n        text-align: right;\n    }\n</style>\n<table border=\"1\" class=\"dataframe\">\n  <thead>\n    <tr style=\"text-align: right;\">\n      <th></th>\n      <th>ID</th>\n      <th>SUB_ID</th>\n      <th>Country</th>\n      <th>Province/State</th>\n      <th>Study Pop Size (N)</th>\n      <th>Proportion of values entered in row (%)</th>\n      <th>Paper Title</th>\n      <th>Journal</th>\n      <th>Author</th>\n      <th>Source</th>\n      <th>...</th>\n      <th>Hypoproteinaemia</th>\n      <th>Acidosis</th>\n      <th>Hospital admission (%)</th>\n      <th>ICU admission</th>\n      <th>Discharged (%)</th>\n      <th>ICU length of stay, days</th>\n      <th>Hospital length of stay, days</th>\n      <th>Days to Viral Clearance (Median)</th>\n      <th>Mortality</th>\n      <th>Projected Mortality (accounting for patients not currently discharged)</th>\n    </tr>\n  </thead>\n  <tbody>\n    <tr>\n      <th>0</th>\n      <td>1.0</td>\n      <td>0.0</td>\n      <td>0</td>\n      <td>0</td>\n      <td>191.0</td>\n      <td>60.11</td>\n      <td>0</td>\n      <td>0</td>\n      <td>0</td>\n      <td>0</td>\n      <td>...</td>\n      <td>11.52</td>\n      <td>8.90</td>\n      <td>1.0</td>\n      <td>0.26</td>\n      <td>0</td>\n      <td>0</td>\n      <td>0</td>\n      <td>20.0</td>\n      <td>0</td>\n      <td>0</td>\n    </tr>\n    <tr>\n      <th>1</th>\n      <td>1.0</td>\n      <td>1.0</td>\n      <td>0</td>\n      <td>0</td>\n      <td>54.0</td>\n      <td>60.11</td>\n      <td>0</td>\n      <td>0</td>\n      <td>0</td>\n      <td>0</td>\n      <td>...</td>\n      <td>37.04</td>\n      <td>29.63</td>\n      <td>1.0</td>\n      <td>0.72</td>\n      <td>1</td>\n      <td>0</td>\n      <td>1</td>\n      <td>7.5</td>\n      <td>1</td>\n      <td>1</td>\n    </tr>\n    <tr>\n      <th>2</th>\n      <td>1.0</td>\n      <td>2.0</td>\n      <td>0</td>\n      <td>0</td>\n      <td>137.0</td>\n      <td>60.11</td>\n      <td>0</td>\n      <td>0</td>\n      <td>0</td>\n      <td>0</td>\n      <td>...</td>\n      <td>1.46</td>\n      <td>0.73</td>\n      <td>1.0</td>\n      <td>0.08</td>\n      <td>2</td>\n      <td>1</td>\n      <td>2</td>\n      <td>20.0</td>\n      <td>2</td>\n      <td>2</td>\n    </tr>\n    <tr>\n      <th>3</th>\n      <td>2.0</td>\n      <td>0.0</td>\n      <td>0</td>\n      <td>0</td>\n      <td>199.0</td>\n      <td>44.94</td>\n      <td>1</td>\n      <td>1</td>\n      <td>1</td>\n      <td>1</td>\n      <td>...</td>\n      <td>-1.00</td>\n      <td>-1.00</td>\n      <td>1.0</td>\n      <td>-1.00</td>\n      <td>0</td>\n      <td>2</td>\n      <td>3</td>\n      <td>28.0</td>\n      <td>3</td>\n      <td>3</td>\n    </tr>\n    <tr>\n      <th>4</th>\n      <td>2.0</td>\n      <td>1.0</td>\n      <td>0</td>\n      <td>0</td>\n      <td>99.0</td>\n      <td>44.94</td>\n      <td>1</td>\n      <td>1</td>\n      <td>1</td>\n      <td>1</td>\n      <td>...</td>\n      <td>-1.00</td>\n      <td>-1.00</td>\n      <td>1.0</td>\n      <td>-1.00</td>\n      <td>3</td>\n      <td>3</td>\n      <td>4</td>\n      <td>28.0</td>\n      <td>4</td>\n      <td>4</td>\n    </tr>\n    <tr>\n      <th>...</th>\n      <td>...</td>\n      <td>...</td>\n      <td>...</td>\n      <td>...</td>\n      <td>...</td>\n      <td>...</td>\n      <td>...</td>\n      <td>...</td>\n      <td>...</td>\n      <td>...</td>\n      <td>...</td>\n      <td>...</td>\n      <td>...</td>\n      <td>...</td>\n      <td>...</td>\n      <td>...</td>\n      <td>...</td>\n      <td>...</td>\n      <td>...</td>\n      <td>...</td>\n      <td>...</td>\n    </tr>\n    <tr>\n      <th>534</th>\n      <td>202.0</td>\n      <td>2.0</td>\n      <td>2</td>\n      <td>56</td>\n      <td>99.0</td>\n      <td>23.60</td>\n      <td>175</td>\n      <td>40</td>\n      <td>88</td>\n      <td>202</td>\n      <td>...</td>\n      <td>-1.00</td>\n      <td>-1.00</td>\n      <td>1.0</td>\n      <td>0.32</td>\n      <td>71</td>\n      <td>0</td>\n      <td>28</td>\n      <td>-1.0</td>\n      <td>30</td>\n      <td>42</td>\n    </tr>\n    <tr>\n      <th>535</th>\n      <td>202.0</td>\n      <td>3.0</td>\n      <td>2</td>\n      <td>56</td>\n      <td>117.0</td>\n      <td>23.03</td>\n      <td>175</td>\n      <td>40</td>\n      <td>88</td>\n      <td>202</td>\n      <td>...</td>\n      <td>-1.00</td>\n      <td>-1.00</td>\n      <td>1.0</td>\n      <td>0.54</td>\n      <td>53</td>\n      <td>13</td>\n      <td>13</td>\n      <td>-1.0</td>\n      <td>24</td>\n      <td>57</td>\n    </tr>\n    <tr>\n      <th>536</th>\n      <td>202.0</td>\n      <td>4.0</td>\n      <td>2</td>\n      <td>56</td>\n      <td>247.0</td>\n      <td>25.84</td>\n      <td>175</td>\n      <td>40</td>\n      <td>88</td>\n      <td>202</td>\n      <td>...</td>\n      <td>-1.00</td>\n      <td>-1.00</td>\n      <td>1.0</td>\n      <td>0.39</td>\n      <td>47</td>\n      <td>0</td>\n      <td>28</td>\n      <td>-1.0</td>\n      <td>3</td>\n      <td>4</td>\n    </tr>\n    <tr>\n      <th>537</th>\n      <td>202.0</td>\n      <td>5.0</td>\n      <td>2</td>\n      <td>56</td>\n      <td>50.0</td>\n      <td>25.28</td>\n      <td>175</td>\n      <td>40</td>\n      <td>88</td>\n      <td>202</td>\n      <td>...</td>\n      <td>-1.00</td>\n      <td>-1.00</td>\n      <td>1.0</td>\n      <td>0.42</td>\n      <td>22</td>\n      <td>13</td>\n      <td>28</td>\n      <td>-1.0</td>\n      <td>38</td>\n      <td>25</td>\n    </tr>\n    <tr>\n      <th>538</th>\n      <td>-1.0</td>\n      <td>-1.0</td>\n      <td>20</td>\n      <td>11</td>\n      <td>-1.0</td>\n      <td>-1.00</td>\n      <td>176</td>\n      <td>33</td>\n      <td>130</td>\n      <td>35</td>\n      <td>...</td>\n      <td>-1.00</td>\n      <td>-1.00</td>\n      <td>-1.0</td>\n      <td>-1.00</td>\n      <td>6</td>\n      <td>5</td>\n      <td>7</td>\n      <td>-1.0</td>\n      <td>18</td>\n      <td>7</td>\n    </tr>\n  </tbody>\n</table>\n<p>539 rows × 162 columns</p>\n</div>"
     },
     "execution_count": 15,
     "metadata": {},
     "output_type": "execute_result"
    }
   ],
   "source": [
    "df = pd.read_csv(\"covid_analytics_clinical_data.csv\")\n",
    "for col in df.columns:\n",
    "    arr = df[col].to_numpy()\n",
    "    if isinstance(arr[df[col].first_valid_index()],str):\n",
    "        if re.search('.*%$', arr[df[col].first_valid_index()]):\n",
    "            df[col] = (df[col].str.strip('%').astype(float))\n",
    "        else:\n",
    "            df[col] = df[col].str.lower()\n",
    "            arr = df[col].to_numpy()\n",
    "            arr = pd.unique(arr)\n",
    "            classifier = np.array([i for i in range(len(arr))])\n",
    "            df[col]=df[col].replace(arr,classifier)\n",
    "df = df.fillna(-1)\n",
    "df"
   ],
   "metadata": {
    "collapsed": false,
    "pycharm": {
     "name": "#%%\n"
    }
   }
  },
  {
   "cell_type": "code",
   "execution_count": 16,
   "outputs": [],
   "source": [
    "sampled = df.sample(225)"
   ],
   "metadata": {
    "collapsed": false,
    "pycharm": {
     "name": "#%%\n"
    }
   }
  },
  {
   "cell_type": "code",
   "execution_count": 17,
   "outputs": [
    {
     "name": "stdout",
     "output_type": "stream",
     "text": [
      "[0.0082644  0.00782436 0.00421899 0.00875368 0.00713061 0.01336383\n",
      " 0.00815172 0.00785802 0.00887445 0.00837674 0.00598836 0.00058503\n",
      " 0.00733788 0.00222071 0.00758189 0.00824944 0.00626154 0.00731987\n",
      " 0.0094968  0.00147735 0.01392727 0.01238106 0.0150782  0.0078336\n",
      " 0.00772262 0.00797384 0.01190142 0.0143396  0.00898249 0.0062008\n",
      " 0.01058976 0.01026704 0.00219134 0.00699409 0.00433156 0.00443165\n",
      " 0.00442918 0.00322245 0.00388602 0.00714201 0.00621304 0.00390943\n",
      " 0.0012283  0.00348463 0.00303188 0.00190818 0.00457163 0.0036653\n",
      " 0.0033265  0.00466545 0.00514307 0.00332854 0.00180205 0.00305226\n",
      " 0.01247879 0.00984721 0.00898515 0.0128832  0.00655889 0.00851314\n",
      " 0.00810212 0.00648651 0.00782022 0.00696758 0.00919053 0.00428958\n",
      " 0.0043854  0.00333817 0.00695355 0.00570919 0.00521809 0.00522386\n",
      " 0.00611874 0.00543882 0.00162646 0.01042806 0.0062827  0.00328881\n",
      " 0.00682899 0.00297128 0.00290385 0.00041453 0.00591471 0.00763322\n",
      " 0.00509179 0.0048639  0.0134821  0.00693796 0.00614431 0.00529595\n",
      " 0.00612265 0.00806113 0.00582574 0.00178786 0.00114918 0.00918365\n",
      " 0.00643187 0.0069726  0.0047438  0.00317732 0.00323453 0.00735853\n",
      " 0.00496258 0.00470342 0.00108898 0.00259427 0.00499462 0.00497508\n",
      " 0.0045459  0.00374983 0.0037927  0.00215545 0.00515548 0.00597619\n",
      " 0.00606794 0.00270524 0.00389726 0.00617985 0.00587272 0.00411028\n",
      " 0.01181696 0.0055262  0.00438371 0.00330452 0.00498087 0.00162778\n",
      " 0.00394017 0.00303813 0.00707008 0.00522949 0.00499749 0.00999787\n",
      " 0.00739622 0.0096232  0.00847508 0.0076087  0.00485357 0.0062471\n",
      " 0.01131236 0.00315027 0.00134924 0.00379253 0.00023993 0.00657304\n",
      " 0.0007192  0.00382952 0.00443691 0.00307797 0.00137125 0.00223898\n",
      " 0.00805807 0.00337812 0.00036477 0.00011786 0.01235255 0.00554848\n",
      " 0.02828254 0.00343939 0.00803381 0.00271234 0.04681779]\n"
     ]
    },
    {
     "data": {
      "text/plain": "<Figure size 432x288 with 1 Axes>",
      "image/png": "[encoded data removed]"
     },
     "metadata": {
      "needs_background": "light"
     },
     "output_type": "display_data"
    }
   ],
   "source": [
    "\n",
    "x = sampled.iloc[:, 0:161]\n",
    "y = sampled.iloc[:, -1]\n",
    "y = y.astype('int')\n",
    "\n",
    "from sklearn.ensemble import ExtraTreesClassifier\n",
    "model = ExtraTreesClassifier()\n",
    "model.fit(x, y)\n",
    "print(model.feature_importances_)\n",
    "feat_importances = pd.Series(model.feature_importances_, index=x.columns)\n",
    "feat_importances.nlargest(10).plot(kind='barh')\n",
    "plt.show()"
   ],
   "metadata": {
    "collapsed": false,
    "pycharm": {
     "name": "#%%\n"
    }
   }
  },
  {
   "cell_type": "code",
   "execution_count": 18,
   "outputs": [],
   "source": [
    "new_df = np.array(sampled[['Mortality','Discharged (%)','Survivors', 'End-point vs Active', 'Any Comorbidity']])"
   ],
   "metadata": {
    "collapsed": false,
    "pycharm": {
     "name": "#%%\n"
    }
   }
  },
  {
   "cell_type": "code",
   "execution_count": 19,
   "outputs": [
    {
     "data": {
      "text/plain": "<Figure size 432x288 with 1 Axes>",
      "image/png": "[encoded data removed]"
     },
     "metadata": {
      "needs_background": "light"
     },
     "output_type": "display_data"
    }
   ],
   "source": [
    "distortions = []\n",
    "for i in range(1, 11):\n",
    "    km = KMeans(n_clusters=i)\n",
    "    km.fit(new_df)\n",
    "    distortions.append(km.inertia_)\n",
    "plt.plot(range(1, 11), distortions, 'bx-')\n",
    "plt.xlabel('Number of clusters')\n",
    "plt.ylabel('Distortion')\n",
    "plt.tight_layout()\n",
    "\n",
    "plt.show()"
   ],
   "metadata": {
    "collapsed": false,
    "pycharm": {
     "name": "#%%\n"
    }
   }
  },
  {
   "cell_type": "code",
   "execution_count": 20,
   "outputs": [
    {
     "data": {
      "text/plain": "KMeans(n_clusters=4)"
     },
     "execution_count": 20,
     "metadata": {},
     "output_type": "execute_result"
    }
   ],
   "source": [
    "km = KMeans(4)\n",
    "\n",
    "km.fit(new_df)\n"
   ],
   "metadata": {
    "collapsed": false,
    "pycharm": {
     "name": "#%%\n"
    }
   }
  },
  {
   "cell_type": "code",
   "execution_count": 21,
   "outputs": [],
   "source": [
    "x = np.nan_to_num(new_df)"
   ],
   "metadata": {
    "collapsed": false,
    "pycharm": {
     "name": "#%%\n"
    }
   }
  },
  {
   "cell_type": "code",
   "execution_count": 22,
   "outputs": [],
   "source": [
    "#uses the pca algorithm to be able to easily plot the kmeans\n",
    "from sklearn.decomposition import PCA\n",
    "\n",
    "pca = PCA(n_components=2)\n",
    "\n",
    "pca_components = pca.fit_transform(x)\n",
    "\n",
    "labels = km.labels_"
   ],
   "metadata": {
    "collapsed": false,
    "pycharm": {
     "name": "#%%\n"
    }
   }
  },
  {
   "cell_type": "code",
   "execution_count": 23,
   "outputs": [
    {
     "data": {
      "text/plain": "        pca1       pca2\n0 -18.006384 -16.077911\n1 -18.021104 -15.124016\n2 -19.952657   6.529392\n3 -20.761319  29.418131\n4 -10.345708  44.713653",
      "text/html": "<div>\n<style scoped>\n    .dataframe tbody tr th:only-of-type {\n        vertical-align: middle;\n    }\n\n    .dataframe tbody tr th {\n        vertical-align: top;\n    }\n\n    .dataframe thead th {\n        text-align: right;\n    }\n</style>\n<table border=\"1\" class=\"dataframe\">\n  <thead>\n    <tr style=\"text-align: right;\">\n      <th></th>\n      <th>pca1</th>\n      <th>pca2</th>\n    </tr>\n  </thead>\n  <tbody>\n    <tr>\n      <th>0</th>\n      <td>-18.006384</td>\n      <td>-16.077911</td>\n    </tr>\n    <tr>\n      <th>1</th>\n      <td>-18.021104</td>\n      <td>-15.124016</td>\n    </tr>\n    <tr>\n      <th>2</th>\n      <td>-19.952657</td>\n      <td>6.529392</td>\n    </tr>\n    <tr>\n      <th>3</th>\n      <td>-20.761319</td>\n      <td>29.418131</td>\n    </tr>\n    <tr>\n      <th>4</th>\n      <td>-10.345708</td>\n      <td>44.713653</td>\n    </tr>\n  </tbody>\n</table>\n</div>"
     },
     "execution_count": 23,
     "metadata": {},
     "output_type": "execute_result"
    }
   ],
   "source": [
    "#\n",
    "pca_df = pd.DataFrame(data = pca_components, columns = ['pca1', 'pca2'])\n",
    "pca_df.head()"
   ],
   "metadata": {
    "collapsed": false,
    "pycharm": {
     "name": "#%%\n"
    }
   }
  },
  {
   "cell_type": "code",
   "execution_count": 24,
   "outputs": [
    {
     "data": {
      "text/plain": "        pca1       pca2  cluster\n0 -18.006384 -16.077911        3\n1 -18.021104 -15.124016        3\n2 -19.952657   6.529392        3\n3 -20.761319  29.418131        0\n4 -10.345708  44.713653        0",
      "text/html": "<div>\n<style scoped>\n    .dataframe tbody tr th:only-of-type {\n        vertical-align: middle;\n    }\n\n    .dataframe tbody tr th {\n        vertical-align: top;\n    }\n\n    .dataframe thead th {\n        text-align: right;\n    }\n</style>\n<table border=\"1\" class=\"dataframe\">\n  <thead>\n    <tr style=\"text-align: right;\">\n      <th></th>\n      <th>pca1</th>\n      <th>pca2</th>\n      <th>cluster</th>\n    </tr>\n  </thead>\n  <tbody>\n    <tr>\n      <th>0</th>\n      <td>-18.006384</td>\n      <td>-16.077911</td>\n      <td>3</td>\n    </tr>\n    <tr>\n      <th>1</th>\n      <td>-18.021104</td>\n      <td>-15.124016</td>\n      <td>3</td>\n    </tr>\n    <tr>\n      <th>2</th>\n      <td>-19.952657</td>\n      <td>6.529392</td>\n      <td>3</td>\n    </tr>\n    <tr>\n      <th>3</th>\n      <td>-20.761319</td>\n      <td>29.418131</td>\n      <td>0</td>\n    </tr>\n    <tr>\n      <th>4</th>\n      <td>-10.345708</td>\n      <td>44.713653</td>\n      <td>0</td>\n    </tr>\n  </tbody>\n</table>\n</div>"
     },
     "execution_count": 24,
     "metadata": {},
     "output_type": "execute_result"
    }
   ],
   "source": [
    "pca_df = pd.concat([pca_df, pd.DataFrame({'cluster': labels})], axis = 1)\n",
    "pca_df.head()"
   ],
   "metadata": {
    "collapsed": false,
    "pycharm": {
     "name": "#%%\n"
    }
   }
  },
  {
   "cell_type": "code",
   "execution_count": 25,
   "outputs": [
    {
     "data": {
      "text/plain": "<matplotlib.collections.PathCollection at 0x13c6a9d0>"
     },
     "execution_count": 25,
     "metadata": {},
     "output_type": "execute_result"
    },
    {
     "data": {
      "text/plain": "<Figure size 720x720 with 1 Axes>",
      "image/png": "[encoded data removed]"
     },
     "metadata": {
      "needs_background": "light"
     },
     "output_type": "display_data"
    }
   ],
   "source": [
    "#Before 10 cross validation\n",
    "import seaborn as sns\n",
    "plt.figure(figsize=(10,10))\n",
    "ax = sns.scatterplot(x = 'pca1', y = 'pca2', hue = 'cluster', data = pca_df, palette = ['red', 'blue', 'green','orange'])\n",
    "\n",
    "centers_on_PCs = pca.transform(km.cluster_centers_)\n",
    "plt.scatter(centers_on_PCs[:, 0], centers_on_PCs[:,1], s= 250, c = \"k\", marker=\"*\")"
   ],
   "metadata": {
    "collapsed": false,
    "pycharm": {
     "name": "#%%\n"
    }
   }
  },
  {
   "cell_type": "code",
   "execution_count": 26,
   "outputs": [
    {
     "name": "stdout",
     "output_type": "stream",
     "text": [
      "Percentage of positives\n"
     ]
    },
    {
     "data": {
      "text/plain": "2     0.351111\n7     0.342222\n1     0.057778\n18    0.017778\n24    0.013333\n11    0.013333\n3     0.013333\n16    0.008889\n28    0.008889\n15    0.008889\n30    0.008889\n9     0.008889\n42    0.008889\n6     0.008889\n48    0.008889\n5     0.008889\n22    0.008889\n10    0.004444\n20    0.004444\n13    0.004444\n14    0.004444\n4     0.004444\n61    0.004444\n21    0.004444\n43    0.004444\n58    0.004444\n56    0.004444\n53    0.004444\n52    0.004444\n49    0.004444\n46    0.004444\n39    0.004444\n59    0.004444\n38    0.004444\n37    0.004444\n36    0.004444\n34    0.004444\n29    0.004444\n25    0.004444\n0     0.004444\nName: Projected Mortality (accounting for patients not currently discharged), dtype: float64"
     },
     "execution_count": 26,
     "metadata": {},
     "output_type": "execute_result"
    }
   ],
   "source": [
    "#10-fold validation\n",
    "print(\"Percentage of positives\")\n",
    "sampled['Projected Mortality (accounting for patients not currently discharged)'].value_counts()/len(sampled)"
   ],
   "metadata": {
    "collapsed": false,
    "pycharm": {
     "name": "#%%\n"
    }
   }
  },
  {
   "cell_type": "code",
   "execution_count": 27,
   "outputs": [],
   "source": [
    "#Set up data for train\n",
    "x = new_df\n",
    "y = np.array(sampled['Projected Mortality (accounting for patients not currently discharged)'])\n",
    "y = y.astype('int')"
   ],
   "metadata": {
    "collapsed": false,
    "pycharm": {
     "name": "#%%\n"
    }
   }
  },
  {
   "cell_type": "code",
   "execution_count": 28,
   "outputs": [],
   "source": [
    "from sklearn.model_selection import cross_val_score, KFold, train_test_split\n",
    "from sklearn import svm\n",
    "\n",
    "clf = svm.SVC(kernel='linear', C=1)\n",
    "\n",
    "cv=KFold(n_splits=10, shuffle=True, random_state=1)\n",
    "\n",
    "predicted_score = cross_val_score(clf, x, y, cv=cv)\n"
   ],
   "metadata": {
    "collapsed": false,
    "pycharm": {
     "name": "#%%\n"
    }
   }
  },
  {
   "cell_type": "code",
   "execution_count": 29,
   "outputs": [
    {
     "name": "stdout",
     "output_type": "stream",
     "text": [
      "Accuracy: 0.538 ( +/- 0.085)\n"
     ]
    }
   ],
   "source": [
    "from numpy import mean, std\n",
    "print('Accuracy: %.3f ( +/- %.3f)' % (mean(predicted_score), std(predicted_score)))"
   ],
   "metadata": {
    "collapsed": false,
    "pycharm": {
     "name": "#%%\n"
    }
   }
  },
  {
   "cell_type": "code",
   "execution_count": 30,
   "outputs": [
    {
     "data": {
      "text/plain": "array([ 2,  2,  7,  2,  2, 29,  2, 43,  1,  2,  2,  2,  7,  2,  7,  2,  2,\n        2, 15,  2, 24, 24,  7,  2,  2,  7,  2,  2,  2, 46, 39,  2,  2,  2,\n        2,  2,  2,  7,  2,  1,  2,  7,  7,  7, 18,  1,  2,  2,  2,  2, 30,\n        7,  2,  1,  1, 16,  1,  7,  2,  2,  7,  2,  2,  2,  7, 30,  2, 28,\n        2,  2, 22,  7,  2,  2,  2,  7, 38, 38,  2,  2,  7,  2,  2,  7, 29,\n        2, 58, 30, 34,  1,  2,  2,  1,  2,  2,  2,  7,  2,  2,  7,  1,  2,\n       39,  2,  1,  7,  2,  2,  7,  7,  2,  2,  2,  7,  7,  2,  2,  7, 30,\n        2,  2,  7, 53,  7,  2,  7,  7,  2,  2,  2,  2,  7,  2,  7,  2,  2,\n        2,  2,  2,  1,  7,  2, 43, 37,  2, 42,  2,  2,  2,  2,  7,  7,  7,\n        7,  2, 42,  2,  2,  7,  2,  1,  2,  2,  2,  2,  2,  2,  2,  7,  2,\n        7,  1,  2,  2,  2, 20,  2,  2,  2,  7, 18, 30, 24,  2,  7,  2,  2,\n        2,  2,  2,  1,  2,  2,  2,  7,  2,  2,  2,  2,  7,  2,  2,  2,  1,\n        2,  2,  2,  2,  2,  7,  1,  2,  7,  7,  2,  2,  7,  2,  2, 42,  2,\n        2,  2,  1,  7])"
     },
     "execution_count": 30,
     "metadata": {},
     "output_type": "execute_result"
    }
   ],
   "source": [
    "from sklearn.model_selection import cross_val_predict\n",
    "\n",
    "\n",
    "\n",
    "predicted = cross_val_predict(clf, x, y, cv=cv)\n",
    "\n",
    "predicted"
   ],
   "metadata": {
    "collapsed": false,
    "pycharm": {
     "name": "#%%\n"
    }
   }
  }
 ],
 "metadata": {
  "kernelspec": {
   "display_name": "Python 3",
   "language": "python",
   "name": "python3"
  },
  "language_info": {
   "codemirror_mode": {
    "name": "ipython",
    "version": 2
   },
   "file_extension": ".py",
   "mimetype": "text/x-python",
   "name": "python",
   "nbconvert_exporter": "python",
   "pygments_lexer": "ipython2",
   "version": "2.7.6"
  }
 },
 "nbformat": 4,
 "nbformat_minor": 0
}