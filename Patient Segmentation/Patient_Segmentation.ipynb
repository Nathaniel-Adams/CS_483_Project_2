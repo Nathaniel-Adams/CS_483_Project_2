{
 "cells": [
  {
   "cell_type": "code",
   "execution_count": 106,
   "metadata": {
    "collapsed": true
   },
   "outputs": [],
   "source": [
    "import matplotlib.pyplot as plt\n",
    "from sklearn.cluster import KMeans\n",
    "import pandas as pd\n",
    "import numpy as np\n",
    "import random"
   ]
  },
  {
   "cell_type": "code",
   "execution_count": 107,
   "outputs": [
    {
     "name": "stderr",
     "output_type": "stream",
     "text": [
      "<ipython-input-107-43ca2e11bf1b>:5: SettingWithCopyWarning: \n",
      "A value is trying to be set on a copy of a slice from a DataFrame.\n",
      "Try using .loc[row_indexer,col_indexer] = value instead\n",
      "\n",
      "See the caveats in the documentation: https://pandas.pydata.org/pandas-docs/stable/user_guide/indexing.html#returning-a-view-versus-a-copy\n",
      "  c_df[\"Severity\"]=c_df[\"Severity\"].replace(arr,[1,3,2,-1,1,2,3,2,3,4])\n",
      "<ipython-input-107-43ca2e11bf1b>:8: SettingWithCopyWarning: \n",
      "A value is trying to be set on a copy of a slice from a DataFrame.\n",
      "Try using .loc[row_indexer,col_indexer] = value instead\n",
      "\n",
      "See the caveats in the documentation: https://pandas.pydata.org/pandas-docs/stable/user_guide/indexing.html#returning-a-view-versus-a-copy\n",
      "  c_df[\"Survivors\"]=c_df[\"Survivors\"].replace(arr,[0,1,2,-1])\n",
      "<ipython-input-107-43ca2e11bf1b>:11: SettingWithCopyWarning: \n",
      "A value is trying to be set on a copy of a slice from a DataFrame.\n",
      "Try using .loc[row_indexer,col_indexer] = value instead\n",
      "\n",
      "See the caveats in the documentation: https://pandas.pydata.org/pandas-docs/stable/user_guide/indexing.html#returning-a-view-versus-a-copy\n",
      "  c_df[\"Country\"]=c_df[\"Country\"].replace(arr,['1', '2', '3', '4', '5',\n"
     ]
    },
    {
     "data": {
      "text/plain": "    Country  Study Pop Size (N)  Severity  Survivors\n0         1               191.0         1          0\n1         1                54.0         3          1\n2         1               137.0         1          2\n3         1               199.0         1          0\n4         1                99.0         1          0\n..      ...                 ...       ...        ...\n534       3                99.0         1         -1\n535       3               117.0         1         -1\n536       3               247.0         1         -1\n537       3                50.0         1         -1\n538      -1                 NaN        -1         -1\n\n[539 rows x 4 columns]",
      "text/html": "<div>\n<style scoped>\n    .dataframe tbody tr th:only-of-type {\n        vertical-align: middle;\n    }\n\n    .dataframe tbody tr th {\n        vertical-align: top;\n    }\n\n    .dataframe thead th {\n        text-align: right;\n    }\n</style>\n<table border=\"1\" class=\"dataframe\">\n  <thead>\n    <tr style=\"text-align: right;\">\n      <th></th>\n      <th>Country</th>\n      <th>Study Pop Size (N)</th>\n      <th>Severity</th>\n      <th>Survivors</th>\n    </tr>\n  </thead>\n  <tbody>\n    <tr>\n      <th>0</th>\n      <td>1</td>\n      <td>191.0</td>\n      <td>1</td>\n      <td>0</td>\n    </tr>\n    <tr>\n      <th>1</th>\n      <td>1</td>\n      <td>54.0</td>\n      <td>3</td>\n      <td>1</td>\n    </tr>\n    <tr>\n      <th>2</th>\n      <td>1</td>\n      <td>137.0</td>\n      <td>1</td>\n      <td>2</td>\n    </tr>\n    <tr>\n      <th>3</th>\n      <td>1</td>\n      <td>199.0</td>\n      <td>1</td>\n      <td>0</td>\n    </tr>\n    <tr>\n      <th>4</th>\n      <td>1</td>\n      <td>99.0</td>\n      <td>1</td>\n      <td>0</td>\n    </tr>\n    <tr>\n      <th>...</th>\n      <td>...</td>\n      <td>...</td>\n      <td>...</td>\n      <td>...</td>\n    </tr>\n    <tr>\n      <th>534</th>\n      <td>3</td>\n      <td>99.0</td>\n      <td>1</td>\n      <td>-1</td>\n    </tr>\n    <tr>\n      <th>535</th>\n      <td>3</td>\n      <td>117.0</td>\n      <td>1</td>\n      <td>-1</td>\n    </tr>\n    <tr>\n      <th>536</th>\n      <td>3</td>\n      <td>247.0</td>\n      <td>1</td>\n      <td>-1</td>\n    </tr>\n    <tr>\n      <th>537</th>\n      <td>3</td>\n      <td>50.0</td>\n      <td>1</td>\n      <td>-1</td>\n    </tr>\n    <tr>\n      <th>538</th>\n      <td>-1</td>\n      <td>NaN</td>\n      <td>-1</td>\n      <td>-1</td>\n    </tr>\n  </tbody>\n</table>\n<p>539 rows × 4 columns</p>\n</div>"
     },
     "execution_count": 107,
     "metadata": {},
     "output_type": "execute_result"
    }
   ],
   "source": [
    "df = pd.read_csv(\"covid_analytics_clinical_data.csv\")\n",
    "c_df = df[['Country','Study Pop Size (N)','Severity','Survivors']]\n",
    "arr = c_df['Severity'].to_numpy()\n",
    "arr = pd.unique(arr)\n",
    "c_df[\"Severity\"]=c_df[\"Severity\"].replace(arr,[1,3,2,-1,1,2,3,2,3,4])\n",
    "arr = c_df['Survivors'].to_numpy()\n",
    "arr = pd.unique(arr)\n",
    "c_df[\"Survivors\"]=c_df[\"Survivors\"].replace(arr,[0,1,2,-1])\n",
    "arr = c_df['Country'].to_numpy()\n",
    "arr = pd.unique(arr)\n",
    "c_df[\"Country\"]=c_df[\"Country\"].replace(arr,['1', '2', '3', '4', '5',\n",
    "       '6', '7', '8', '9',\n",
    "       '10', '11', '12', '13', '14',\n",
    "       '15', '16', '17', '18', '19',\n",
    "       '20', -1])\n",
    "c_df = c_df.fillna(-1)\n",
    "c_df"
   ],
   "metadata": {
    "collapsed": false,
    "pycharm": {
     "name": "#%%\n"
    }
   }
  }
 ],
 "metadata": {
  "kernelspec": {
   "display_name": "Python 3",
   "language": "python",
   "name": "python3"
  },
  "language_info": {
   "codemirror_mode": {
    "name": "ipython",
    "version": 2
   },
   "file_extension": ".py",
   "mimetype": "text/x-python",
   "name": "python",
   "nbconvert_exporter": "python",
   "pygments_lexer": "ipython2",
   "version": "2.7.6"
  }
 },
 "nbformat": 4,
 "nbformat_minor": 0
}